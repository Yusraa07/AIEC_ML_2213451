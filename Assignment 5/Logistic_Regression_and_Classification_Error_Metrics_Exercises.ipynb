{
  "cells": [
    {
      "cell_type": "markdown",
      "metadata": {
        "run_control": {
          "marked": true
        },
        "id": "oF4WSd_hMhdX"
      },
      "source": [
        "# Logistic Regression and Classification Error Metrics\n",
        "![LogRegr.png](Assets/LogRegr.png)\n"
      ]
    },
    {
      "cell_type": "markdown",
      "metadata": {
        "id": "Pq_jhSAgMhdb"
      },
      "source": [
        "# Learning Objectives\n",
        "\n",
        "- Describe Logistic regression and how it differs from linear regression\n",
        "- Identify metrics for classification errors and scenarios in which they can be used\n",
        "- Apply Intel® Extension for Scikit-learn* to leverage underlying compute capabilities of hardware\n",
        "\n",
        "\n",
        "# scikit-learn*\n",
        "\n",
        "Frameworks provide structure that Data Scientists use to build code. Frameworks are more than just libraries, because in addition to callable code, frameworks influence how code is written.\n",
        "\n",
        "A main virtue of using an optimized framework is that code runs faster. Code that runs faster is just generally more convenient but when we begin looking at applied data science and AI models, we can see more material benefits. Here you will see how optimization, particularly hyperparameter optimization can benefit more than just speed.\n",
        "\n",
        "These exercises will demonstrate how to apply **the Intel® Extension for Scikit-learn*,** a seamless way to speed up your Scikit-learn application. The acceleration is achieved through the use of the Intel® oneAPI Data Analytics Library (oneDAL). Patching is the term used to extend scikit-learn with Intel optimizations and makes it a well-suited machine learning framework for dealing with real-life problems.\n",
        "\n",
        "To get optimized versions of many Scikit-learn algorithms using a patch() approach consisting of adding these lines of code PRIOR to importing sklearn:\n",
        "\n",
        "- **from sklearnex import patch_sklearn**\n",
        "- **patch_sklearn()**\n",
        "\n",
        "## This exercise relies on installation of  Intel® Extension for Scikit-learn*\n",
        "\n",
        "If you have not already done so, follow the instructions from Week 1 for instructions"
      ]
    },
    {
      "cell_type": "markdown",
      "metadata": {
        "run_control": {
          "marked": true
        },
        "id": "JRw6iXz8Mhdd"
      },
      "source": [
        "## Introduction\n",
        "\n",
        "We will be using the [Human Activity Recognition with Smartphones](https://archive.ics.uci.edu/ml/datasets/Human+Activity+Recognition+Using+Smartphones) database, which was built from the recordings of study participants performing activities of daily living (ADL) while carrying a smartphone with an embedded inertial sensors. The objective is to classify activities into one of the six activities (walking, walking upstairs, walking downstairs, sitting, standing, and laying) performed.\n",
        "\n",
        "Alternatively the same data set can be found at https://www.kaggle.com/uciml/human-activity-recognition-with-smartphones/downloads/human-activity-recognition-with-smartphones.zip\n",
        "The train file can be renamed as Human_Activity_Recognition_Using_Smartphones_Data.csv\n",
        "\n",
        "For each record in the dataset it is provided:\n",
        "\n",
        "- Triaxial acceleration from the accelerometer (total acceleration) and the estimated body acceleration.\n",
        "- Triaxial Angular velocity from the gyroscope.\n",
        "- A 561-feature vector with time and frequency domain variables.\n",
        "- Its activity label.\n",
        "\n",
        "More information about the features is available on the website above."
      ]
    },
    {
      "cell_type": "code",
      "execution_count": 8,
      "metadata": {
        "ExecuteTime": {
          "end_time": "2021-09-17T02:19:46.801355Z",
          "start_time": "2021-09-17T02:19:46.797352Z"
        },
        "run_control": {
          "marked": true
        },
        "id": "xxFCH-XrMhde"
      },
      "outputs": [],
      "source": [
        "import sklearn\n",
        "from __future__ import print_function\n",
        "import os\n",
        "data_path = ['/content/']\n",
        "\n",
        "\n",
        "from sklearn.preprocessing import LabelEncoder\n",
        "from sklearn.model_selection import StratifiedShuffleSplit\n",
        "from sklearn.linear_model import LogisticRegression\n",
        "from sklearn.linear_model import LogisticRegressionCV\n",
        "from sklearn.metrics import precision_recall_fscore_support as score\n",
        "from sklearn.metrics import confusion_matrix, accuracy_score, roc_auc_score\n",
        "from sklearn.preprocessing import label_binarize\n"
      ]
    },
    {
      "cell_type": "markdown",
      "metadata": {
        "run_control": {
          "marked": true
        },
        "id": "22ChzWcgMhdg"
      },
      "source": [
        "## Question 1\n",
        "\n",
        "Import the data and do the following:\n",
        "\n",
        "* Examine the data types--there are many columns, so it might be wise to use value counts\n",
        "* Determine if the floating point values need to be scaled\n",
        "* Determine the breakdown of each activity\n",
        "* Encode the activity label as an integer"
      ]
    },
    {
      "cell_type": "code",
      "execution_count": 9,
      "metadata": {
        "ExecuteTime": {
          "end_time": "2021-09-17T02:19:48.669458Z",
          "start_time": "2021-09-17T02:19:46.817352Z"
        },
        "run_control": {
          "marked": true
        },
        "id": "MkjTkwQkMhdh"
      },
      "outputs": [],
      "source": [
        "import pandas as pd\n",
        "import numpy as np\n",
        "#The filepath is dependent on the data_path set in the previous cell\n",
        "filepath = os.sep.join(data_path + ['Human_Activity_Recognition_Using_Smartphones_Data.csv'])\n",
        "data = pd.read_csv(filepath, sep=',')"
      ]
    },
    {
      "cell_type": "markdown",
      "metadata": {
        "run_control": {
          "marked": true
        },
        "id": "VHJ_WbBTMhdh"
      },
      "source": [
        "The data columns are all floats except for the activity label."
      ]
    },
    {
      "cell_type": "code",
      "execution_count": 10,
      "metadata": {
        "ExecuteTime": {
          "end_time": "2021-09-17T02:19:48.701458Z",
          "start_time": "2021-09-17T02:19:48.672460Z"
        },
        "run_control": {
          "marked": true
        },
        "colab": {
          "base_uri": "https://localhost:8080/"
        },
        "id": "VKEVw0wZMhdh",
        "outputId": "84a321b8-01e2-4b90-d1cf-d59b68de412e"
      },
      "outputs": [
        {
          "output_type": "execute_result",
          "data": {
            "text/plain": [
              "float64    561\n",
              "object       1\n",
              "dtype: int64"
            ]
          },
          "metadata": {},
          "execution_count": 10
        }
      ],
      "source": [
        "data.dtypes.value_counts()"
      ]
    },
    {
      "cell_type": "code",
      "execution_count": 11,
      "metadata": {
        "ExecuteTime": {
          "end_time": "2021-09-17T02:19:48.717461Z",
          "start_time": "2021-09-17T02:19:48.705464Z"
        },
        "run_control": {
          "marked": true
        },
        "colab": {
          "base_uri": "https://localhost:8080/"
        },
        "id": "0lZmRUtiMhdi",
        "outputId": "b6ab1453-0683-45a9-956e-7809c3a61f38"
      },
      "outputs": [
        {
          "output_type": "execute_result",
          "data": {
            "text/plain": [
              "angle(tBodyGyroJerkMean,gravityMean)    float64\n",
              "angle(X,gravityMean)                    float64\n",
              "angle(Y,gravityMean)                    float64\n",
              "angle(Z,gravityMean)                    float64\n",
              "Activity                                 object\n",
              "dtype: object"
            ]
          },
          "metadata": {},
          "execution_count": 11
        }
      ],
      "source": [
        "data.dtypes.tail()"
      ]
    },
    {
      "cell_type": "markdown",
      "metadata": {
        "run_control": {
          "marked": true
        },
        "id": "7u4cVWUSMhdi"
      },
      "source": [
        "The data are all scaled from -1 (minimum) to 1.0 (maximum)."
      ]
    },
    {
      "cell_type": "code",
      "execution_count": 12,
      "metadata": {
        "ExecuteTime": {
          "end_time": "2021-09-17T02:19:48.813458Z",
          "start_time": "2021-09-17T02:19:48.720459Z"
        },
        "run_control": {
          "marked": true
        },
        "colab": {
          "base_uri": "https://localhost:8080/"
        },
        "id": "Kg2GAkiJMhdi",
        "outputId": "d57d536c-61f3-4972-aa03-fb5ac3d9303e"
      },
      "outputs": [
        {
          "output_type": "execute_result",
          "data": {
            "text/plain": [
              "-1.000000    243\n",
              "-0.999504      4\n",
              "-0.999999      3\n",
              "-0.993886      2\n",
              "-0.937244      2\n",
              "            ... \n",
              "-0.999950      1\n",
              "-0.999783      1\n",
              "-0.999874      1\n",
              "-0.828061      1\n",
              "-0.980143      1\n",
              "Length: 297, dtype: int64"
            ]
          },
          "metadata": {},
          "execution_count": 12
        }
      ],
      "source": [
        "data.iloc[:, :-1].min().value_counts()"
      ]
    },
    {
      "cell_type": "code",
      "execution_count": 13,
      "metadata": {
        "ExecuteTime": {
          "end_time": "2021-09-17T02:19:48.908458Z",
          "start_time": "2021-09-17T02:19:48.816459Z"
        },
        "run_control": {
          "marked": true
        },
        "colab": {
          "base_uri": "https://localhost:8080/"
        },
        "id": "bBaoVE_fMhdj",
        "outputId": "df3ce255-0638-466b-c2ac-ceea2158723c"
      },
      "outputs": [
        {
          "output_type": "execute_result",
          "data": {
            "text/plain": [
              "1.000000    143\n",
              "0.510146      4\n",
              "0.992169      2\n",
              "0.809323      2\n",
              "0.567757      2\n",
              "           ... \n",
              "0.258656      1\n",
              "0.041479      1\n",
              "0.654685      1\n",
              "0.447247      1\n",
              "0.488889      1\n",
              "Length: 401, dtype: int64"
            ]
          },
          "metadata": {},
          "execution_count": 13
        }
      ],
      "source": [
        "data.iloc[:, :-1].max().value_counts()"
      ]
    },
    {
      "cell_type": "markdown",
      "metadata": {
        "id": "AqZVBo-PMhdj"
      },
      "source": [
        "Examine the breakdown of activities--they are relatively balanced."
      ]
    },
    {
      "cell_type": "code",
      "execution_count": 14,
      "metadata": {
        "ExecuteTime": {
          "end_time": "2021-09-17T02:19:48.924475Z",
          "start_time": "2021-09-17T02:19:48.911463Z"
        },
        "colab": {
          "base_uri": "https://localhost:8080/"
        },
        "id": "HA1jsFifMhdj",
        "outputId": "66e95d98-7f38-47d5-cb61-d08081c9df17"
      },
      "outputs": [
        {
          "output_type": "execute_result",
          "data": {
            "text/plain": [
              "STANDING              615\n",
              "LAYING                612\n",
              "WALKING               609\n",
              "SITTING               560\n",
              "WALKING_UPSTAIRS      509\n",
              "WALKING_DOWNSTAIRS    458\n",
              "Name: Activity, dtype: int64"
            ]
          },
          "metadata": {},
          "execution_count": 14
        }
      ],
      "source": [
        "data.Activity.value_counts()"
      ]
    },
    {
      "cell_type": "markdown",
      "metadata": {
        "id": "nmX1M9giMhdk"
      },
      "source": [
        "Scikit learn classifiers won't accept a sparse matrix for the prediction column. Thus, either `LabelEncoder` needs to be used to convert the activity labels to integers, or if `DictVectorizer` is used, the resulting matrix must be converted to a non-sparse array.  \n",
        "Use `LabelEncoder` to fit_transform the \"Activity\" column, and look at 5 random values."
      ]
    },
    {
      "cell_type": "code",
      "execution_count": 15,
      "metadata": {
        "ExecuteTime": {
          "end_time": "2021-09-17T02:19:49.796294Z",
          "start_time": "2021-09-17T02:19:48.928460Z"
        },
        "colab": {
          "base_uri": "https://localhost:8080/"
        },
        "id": "K0YTrwrxMhdk",
        "outputId": "11d62960-eaf0-409f-8616-0113f10d40ea"
      },
      "outputs": [
        {
          "output_type": "execute_result",
          "data": {
            "text/plain": [
              "3097    1\n",
              "760     0\n",
              "852     2\n",
              "1942    1\n",
              "662     4\n",
              "Name: Activity, dtype: int64"
            ]
          },
          "metadata": {},
          "execution_count": 15
        }
      ],
      "source": [
        "from sklearn.preprocessing import LabelEncoder\n",
        "\n",
        "le = LabelEncoder()\n",
        "data['Activity'] = le.fit_transform(data.Activity)\n",
        "data['Activity'].sample(5)"
      ]
    },
    {
      "cell_type": "markdown",
      "metadata": {
        "id": "fThTmGMkMhdk"
      },
      "source": [
        "## Question 2\n",
        "\n",
        "* Calculate the correlations between the dependent variables.\n",
        "* Create a histogram of the correlation values\n",
        "* Identify those that are most correlated (either positively or negatively)."
      ]
    },
    {
      "cell_type": "code",
      "execution_count": 16,
      "metadata": {
        "ExecuteTime": {
          "end_time": "2021-09-17T02:20:12.085552Z",
          "start_time": "2021-09-17T02:19:49.801326Z"
        },
        "id": "yYEnrwZcMhdl"
      },
      "outputs": [],
      "source": [
        "# Calculate the correlation values\n",
        "feature_cols = data.columns[:-1]\n",
        "corr_values = data[feature_cols].corr()\n",
        "\n",
        "# Simplify by emptying all the data below the diagonal\n",
        "tril_index = np.tril_indices_from(corr_values)\n",
        "\n",
        "# Make the unused values NaNs\n",
        "for coord in zip(*tril_index):\n",
        "    corr_values.iloc[coord[0], coord[1]] = np.NaN\n",
        "\n",
        "# Stack the data and convert to a data frame\n",
        "corr_values = (corr_values.stack().to_frame().reset_index().rename(columns={'level_0':'feature1','level_1':'feature2',0:'correlation'}))\n",
        "\n",
        "# Get the absolute values for sorting\n",
        "corr_values['abs_correlation'] = corr_values.correlation.abs()"
      ]
    },
    {
      "cell_type": "markdown",
      "metadata": {
        "id": "V7lA_5taMhdl"
      },
      "source": [
        "A histogram of the absolute value correlations."
      ]
    },
    {
      "cell_type": "code",
      "execution_count": 17,
      "metadata": {
        "ExecuteTime": {
          "end_time": "2021-09-17T02:20:12.511272Z",
          "start_time": "2021-09-17T02:20:12.087622Z"
        },
        "id": "tD3sBlggMhdl"
      },
      "outputs": [],
      "source": [
        "import matplotlib.pyplot as plt\n",
        "import seaborn as sns\n",
        "%matplotlib inline"
      ]
    },
    {
      "cell_type": "code",
      "execution_count": 18,
      "metadata": {
        "ExecuteTime": {
          "end_time": "2021-09-17T02:20:13.001294Z",
          "start_time": "2021-09-17T02:20:12.514240Z"
        },
        "colab": {
          "base_uri": "https://localhost:8080/",
          "height": 476
        },
        "id": "FEEN5p6NMhdl",
        "outputId": "d2ee8118-0e21-4c57-a697-eec7b6099644"
      },
      "outputs": [
        {
          "output_type": "display_data",
          "data": {
            "text/plain": [
              "<Figure size 640x480 with 1 Axes>"
            ],
            "image/png": "[encoded data removed]"
          },
          "metadata": {}
        }
      ],
      "source": [
        "sns.set_context('talk')\n",
        "sns.set_style('white')\n",
        "sns.set_palette('dark')\n",
        "\n",
        "ax = corr_values.abs_correlation.hist(bins=50)\n",
        "\n",
        "ax.set(xlabel='Absolute Correlation', ylabel='Frequency');"
      ]
    },
    {
      "cell_type": "code",
      "execution_count": 19,
      "metadata": {
        "ExecuteTime": {
          "end_time": "2021-09-17T02:20:13.096326Z",
          "start_time": "2021-09-17T02:20:13.004294Z"
        },
        "colab": {
          "base_uri": "https://localhost:8080/",
          "height": 478
        },
        "id": "vPt9lqHiMhdm",
        "outputId": "3fa71c8a-e5e1-45d7-9b61-042996bb6e3a"
      },
      "outputs": [
        {
          "output_type": "execute_result",
          "data": {
            "text/plain": [
              "                           feature1                    feature2  correlation  \\\n",
              "92104            tBodyAccMag-mean()           tBodyAccMag-sma()     1.000000   \n",
              "95667        tBodyAccMag-arCoeff()2   tGravityAccMag-arCoeff()2     1.000000   \n",
              "105403          tBodyGyroMag-mean()          tBodyGyroMag-sma()     1.000000   \n",
              "93189             tBodyAccMag-max()        tGravityAccMag-max()     1.000000   \n",
              "156894  fBodyBodyGyroJerkMag-mean()  fBodyBodyGyroJerkMag-sma()     1.000000   \n",
              "...                             ...                         ...          ...   \n",
              "22657          tGravityAcc-mean()-Y        angle(Y,gravityMean)    -0.992665   \n",
              "23176          tGravityAcc-mean()-Z        angle(Z,gravityMean)    -0.994167   \n",
              "39225     tGravityAcc-arCoeff()-Z,3   tGravityAcc-arCoeff()-Z,4    -0.995558   \n",
              "38739     tGravityAcc-arCoeff()-Z,2   tGravityAcc-arCoeff()-Z,3    -0.995685   \n",
              "38252     tGravityAcc-arCoeff()-Z,1   tGravityAcc-arCoeff()-Z,2    -0.995968   \n",
              "\n",
              "        abs_correlation  \n",
              "92104          1.000000  \n",
              "95667          1.000000  \n",
              "105403         1.000000  \n",
              "93189          1.000000  \n",
              "156894         1.000000  \n",
              "...                 ...  \n",
              "22657          0.992665  \n",
              "23176          0.994167  \n",
              "39225          0.995558  \n",
              "38739          0.995685  \n",
              "38252          0.995968  \n",
              "\n",
              "[22606 rows x 4 columns]"
            ],
            "text/html": [
              "\n",
              "  <div id=\"df-1f5e5b84-4518-4947-a387-bae33bba755f\" class=\"colab-df-container\">\n",
              "    <div>\n",
              "<style scoped>\n",
              "    .dataframe tbody tr th:only-of-type {\n",
              "        vertical-align: middle;\n",
              "    }\n",
              "\n",
              "    .dataframe tbody tr th {\n",
              "        vertical-align: top;\n",
              "    }\n",
              "\n",
              "    .dataframe thead th {\n",
              "        text-align: right;\n",
              "    }\n",
              "</style>\n",
              "<table border=\"1\" class=\"dataframe\">\n",
              "  <thead>\n",
              "    <tr style=\"text-align: right;\">\n",
              "      <th></th>\n",
              "      <th>feature1</th>\n",
              "      <th>feature2</th>\n",
              "      <th>correlation</th>\n",
              "      <th>abs_correlation</th>\n",
              "    </tr>\n",
              "  </thead>\n",
              "  <tbody>\n",
              "    <tr>\n",
              "      <th>92104</th>\n",
              "      <td>tBodyAccMag-mean()</td>\n",
              "      <td>tBodyAccMag-sma()</td>\n",
              "      <td>1.000000</td>\n",
              "      <td>1.000000</td>\n",
              "    </tr>\n",
              "    <tr>\n",
              "      <th>95667</th>\n",
              "      <td>tBodyAccMag-arCoeff()2</td>\n",
              "      <td>tGravityAccMag-arCoeff()2</td>\n",
              "      <td>1.000000</td>\n",
              "      <td>1.000000</td>\n",
              "    </tr>\n",
              "    <tr>\n",
              "      <th>105403</th>\n",
              "      <td>tBodyGyroMag-mean()</td>\n",
              "      <td>tBodyGyroMag-sma()</td>\n",
              "      <td>1.000000</td>\n",
              "      <td>1.000000</td>\n",
              "    </tr>\n",
              "    <tr>\n",
              "      <th>93189</th>\n",
              "      <td>tBodyAccMag-max()</td>\n",
              "      <td>tGravityAccMag-max()</td>\n",
              "      <td>1.000000</td>\n",
              "      <td>1.000000</td>\n",
              "    </tr>\n",
              "    <tr>\n",
              "      <th>156894</th>\n",
              "      <td>fBodyBodyGyroJerkMag-mean()</td>\n",
              "      <td>fBodyBodyGyroJerkMag-sma()</td>\n",
              "      <td>1.000000</td>\n",
              "      <td>1.000000</td>\n",
              "    </tr>\n",
              "    <tr>\n",
              "      <th>...</th>\n",
              "      <td>...</td>\n",
              "      <td>...</td>\n",
              "      <td>...</td>\n",
              "      <td>...</td>\n",
              "    </tr>\n",
              "    <tr>\n",
              "      <th>22657</th>\n",
              "      <td>tGravityAcc-mean()-Y</td>\n",
              "      <td>angle(Y,gravityMean)</td>\n",
              "      <td>-0.992665</td>\n",
              "      <td>0.992665</td>\n",
              "    </tr>\n",
              "    <tr>\n",
              "      <th>23176</th>\n",
              "      <td>tGravityAcc-mean()-Z</td>\n",
              "      <td>angle(Z,gravityMean)</td>\n",
              "      <td>-0.994167</td>\n",
              "      <td>0.994167</td>\n",
              "    </tr>\n",
              "    <tr>\n",
              "      <th>39225</th>\n",
              "      <td>tGravityAcc-arCoeff()-Z,3</td>\n",
              "      <td>tGravityAcc-arCoeff()-Z,4</td>\n",
              "      <td>-0.995558</td>\n",
              "      <td>0.995558</td>\n",
              "    </tr>\n",
              "    <tr>\n",
              "      <th>38739</th>\n",
              "      <td>tGravityAcc-arCoeff()-Z,2</td>\n",
              "      <td>tGravityAcc-arCoeff()-Z,3</td>\n",
              "      <td>-0.995685</td>\n",
              "      <td>0.995685</td>\n",
              "    </tr>\n",
              "    <tr>\n",
              "      <th>38252</th>\n",
              "      <td>tGravityAcc-arCoeff()-Z,1</td>\n",
              "      <td>tGravityAcc-arCoeff()-Z,2</td>\n",
              "      <td>-0.995968</td>\n",
              "      <td>0.995968</td>\n",
              "    </tr>\n",
              "  </tbody>\n",
              "</table>\n",
              "<p>22606 rows × 4 columns</p>\n",
              "</div>\n",
              "    <div class=\"colab-df-buttons\">\n",
              "\n",
              "  <div class=\"colab-df-container\">\n",
              "    <button class=\"colab-df-convert\" onclick=\"convertToInteractive('df-1f5e5b84-4518-4947-a387-bae33bba755f')\"\n",
              "            title=\"Convert this dataframe to an interactive table.\"\n",
              "            style=\"display:none;\">\n",
              "\n",
              "  <svg xmlns=\"http://www.w3.org/2000/svg\" height=\"24px\" viewBox=\"0 -960 960 960\">\n",
              "    <path d=\"M120-120v-720h720v720H120Zm60-500h600v-160H180v160Zm220 220h160v-160H400v160Zm0 220h160v-160H400v160ZM180-400h160v-160H180v160Zm440 0h160v-160H620v160ZM180-180h160v-160H180v160Zm440 0h160v-160H620v160Z\"/>\n",
              "  </svg>\n",
              "    </button>\n",
              "\n",
              "  <style>\n",
              "    .colab-df-container {\n",
              "      display:flex;\n",
              "      gap: 12px;\n",
              "    }\n",
              "\n",
              "    .colab-df-convert {\n",
              "      background-color: #E8F0FE;\n",
              "      border: none;\n",
              "      border-radius: 50%;\n",
              "      cursor: pointer;\n",
              "      display: none;\n",
              "      fill: #1967D2;\n",
              "      height: 32px;\n",
              "      padding: 0 0 0 0;\n",
              "      width: 32px;\n",
              "    }\n",
              "\n",
              "    .colab-df-convert:hover {\n",
              "      background-color: #E2EBFA;\n",
              "      box-shadow: 0px 1px 2px rgba(60, 64, 67, 0.3), 0px 1px 3px 1px rgba(60, 64, 67, 0.15);\n",
              "      fill: #174EA6;\n",
              "    }\n",
              "\n",
              "    .colab-df-buttons div {\n",
              "      margin-bottom: 4px;\n",
              "    }\n",
              "\n",
              "    [theme=dark] .colab-df-convert {\n",
              "      background-color: #3B4455;\n",
              "      fill: #D2E3FC;\n",
              "    }\n",
              "\n",
              "    [theme=dark] .colab-df-convert:hover {\n",
              "      background-color: #434B5C;\n",
              "      box-shadow: 0px 1px 3px 1px rgba(0, 0, 0, 0.15);\n",
              "      filter: drop-shadow(0px 1px 2px rgba(0, 0, 0, 0.3));\n",
              "      fill: #FFFFFF;\n",
              "    }\n",
              "  </style>\n",
              "\n",
              "    <script>\n",
              "      const buttonEl =\n",
              "        document.querySelector('#df-1f5e5b84-4518-4947-a387-bae33bba755f button.colab-df-convert');\n",
              "      buttonEl.style.display =\n",
              "        google.colab.kernel.accessAllowed ? 'block' : 'none';\n",
              "\n",
              "      async function convertToInteractive(key) {\n",
              "        const element = document.querySelector('#df-1f5e5b84-4518-4947-a387-bae33bba755f');\n",
              "        const dataTable =\n",
              "          await google.colab.kernel.invokeFunction('convertToInteractive',\n",
              "                                                    [key], {});\n",
              "        if (!dataTable) return;\n",
              "\n",
              "        const docLinkHtml = 'Like what you see? Visit the ' +\n",
              "          '<a target=\"_blank\" href=https://colab.research.google.com/notebooks/data_table.ipynb>data table notebook</a>'\n",
              "          + ' to learn more about interactive tables.';\n",
              "        element.innerHTML = '';\n",
              "        dataTable['output_type'] = 'display_data';\n",
              "        await google.colab.output.renderOutput(dataTable, element);\n",
              "        const docLink = document.createElement('div');\n",
              "        docLink.innerHTML = docLinkHtml;\n",
              "        element.appendChild(docLink);\n",
              "      }\n",
              "    </script>\n",
              "  </div>\n",
              "\n",
              "\n",
              "<div id=\"df-1e31def9-9d79-468b-bd0c-2191c66718e6\">\n",
              "  <button class=\"colab-df-quickchart\" onclick=\"quickchart('df-1e31def9-9d79-468b-bd0c-2191c66718e6')\"\n",
              "            title=\"Suggest charts\"\n",
              "            style=\"display:none;\">\n",
              "\n",
              "<svg xmlns=\"http://www.w3.org/2000/svg\" height=\"24px\"viewBox=\"0 0 24 24\"\n",
              "     width=\"24px\">\n",
              "    <g>\n",
              "        <path d=\"M19 3H5c-1.1 0-2 .9-2 2v14c0 1.1.9 2 2 2h14c1.1 0 2-.9 2-2V5c0-1.1-.9-2-2-2zM9 17H7v-7h2v7zm4 0h-2V7h2v10zm4 0h-2v-4h2v4z\"/>\n",
              "    </g>\n",
              "</svg>\n",
              "  </button>\n",
              "\n",
              "<style>\n",
              "  .colab-df-quickchart {\n",
              "      --bg-color: #E8F0FE;\n",
              "      --fill-color: #1967D2;\n",
              "      --hover-bg-color: #E2EBFA;\n",
              "      --hover-fill-color: #174EA6;\n",
              "      --disabled-fill-color: #AAA;\n",
              "      --disabled-bg-color: #DDD;\n",
              "  }\n",
              "\n",
              "  [theme=dark] .colab-df-quickchart {\n",
              "      --bg-color: #3B4455;\n",
              "      --fill-color: #D2E3FC;\n",
              "      --hover-bg-color: #434B5C;\n",
              "      --hover-fill-color: #FFFFFF;\n",
              "      --disabled-bg-color: #3B4455;\n",
              "      --disabled-fill-color: #666;\n",
              "  }\n",
              "\n",
              "  .colab-df-quickchart {\n",
              "    background-color: var(--bg-color);\n",
              "    border: none;\n",
              "    border-radius: 50%;\n",
              "    cursor: pointer;\n",
              "    display: none;\n",
              "    fill: var(--fill-color);\n",
              "    height: 32px;\n",
              "    padding: 0;\n",
              "    width: 32px;\n",
              "  }\n",
              "\n",
              "  .colab-df-quickchart:hover {\n",
              "    background-color: var(--hover-bg-color);\n",
              "    box-shadow: 0 1px 2px rgba(60, 64, 67, 0.3), 0 1px 3px 1px rgba(60, 64, 67, 0.15);\n",
              "    fill: var(--button-hover-fill-color);\n",
              "  }\n",
              "\n",
              "  .colab-df-quickchart-complete:disabled,\n",
              "  .colab-df-quickchart-complete:disabled:hover {\n",
              "    background-color: var(--disabled-bg-color);\n",
              "    fill: var(--disabled-fill-color);\n",
              "    box-shadow: none;\n",
              "  }\n",
              "\n",
              "  .colab-df-spinner {\n",
              "    border: 2px solid var(--fill-color);\n",
              "    border-color: transparent;\n",
              "    border-bottom-color: var(--fill-color);\n",
              "    animation:\n",
              "      spin 1s steps(1) infinite;\n",
              "  }\n",
              "\n",
              "  @keyframes spin {\n",
              "    0% {\n",
              "      border-color: transparent;\n",
              "      border-bottom-color: var(--fill-color);\n",
              "      border-left-color: var(--fill-color);\n",
              "    }\n",
              "    20% {\n",
              "      border-color: transparent;\n",
              "      border-left-color: var(--fill-color);\n",
              "      border-top-color: var(--fill-color);\n",
              "    }\n",
              "    30% {\n",
              "      border-color: transparent;\n",
              "      border-left-color: var(--fill-color);\n",
              "      border-top-color: var(--fill-color);\n",
              "      border-right-color: var(--fill-color);\n",
              "    }\n",
              "    40% {\n",
              "      border-color: transparent;\n",
              "      border-right-color: var(--fill-color);\n",
              "      border-top-color: var(--fill-color);\n",
              "    }\n",
              "    60% {\n",
              "      border-color: transparent;\n",
              "      border-right-color: var(--fill-color);\n",
              "    }\n",
              "    80% {\n",
              "      border-color: transparent;\n",
              "      border-right-color: var(--fill-color);\n",
              "      border-bottom-color: var(--fill-color);\n",
              "    }\n",
              "    90% {\n",
              "      border-color: transparent;\n",
              "      border-bottom-color: var(--fill-color);\n",
              "    }\n",
              "  }\n",
              "</style>\n",
              "\n",
              "  <script>\n",
              "    async function quickchart(key) {\n",
              "      const quickchartButtonEl =\n",
              "        document.querySelector('#' + key + ' button');\n",
              "      quickchartButtonEl.disabled = true;  // To prevent multiple clicks.\n",
              "      quickchartButtonEl.classList.add('colab-df-spinner');\n",
              "      try {\n",
              "        const charts = await google.colab.kernel.invokeFunction(\n",
              "            'suggestCharts', [key], {});\n",
              "      } catch (error) {\n",
              "        console.error('Error during call to suggestCharts:', error);\n",
              "      }\n",
              "      quickchartButtonEl.classList.remove('colab-df-spinner');\n",
              "      quickchartButtonEl.classList.add('colab-df-quickchart-complete');\n",
              "    }\n",
              "    (() => {\n",
              "      let quickchartButtonEl =\n",
              "        document.querySelector('#df-1e31def9-9d79-468b-bd0c-2191c66718e6 button');\n",
              "      quickchartButtonEl.style.display =\n",
              "        google.colab.kernel.accessAllowed ? 'block' : 'none';\n",
              "    })();\n",
              "  </script>\n",
              "</div>\n",
              "\n",
              "    </div>\n",
              "  </div>\n"
            ],
            "application/vnd.google.colaboratory.intrinsic+json": {
              "type": "dataframe",
              "summary": "{\n  \"name\": \"corr_values\",\n  \"rows\": 22606,\n  \"fields\": [\n    {\n      \"column\": \"feature1\",\n      \"properties\": {\n        \"dtype\": \"category\",\n        \"num_unique_values\": 405,\n        \"samples\": [\n          \"tBodyGyro-mad()-Z\",\n          \"fBodyGyro-bandsEnergy()-1,8.2\",\n          \"fBodyGyro-bandsEnergy()-1,24\"\n        ],\n        \"semantic_type\": \"\",\n        \"description\": \"\"\n      }\n    },\n    {\n      \"column\": \"feature2\",\n      \"properties\": {\n        \"dtype\": \"category\",\n        \"num_unique_values\": 416,\n        \"samples\": [\n          \"fBodyAcc-entropy()-Y\",\n          \"tBodyGyroMag-energy()\",\n          \"tBodyGyroMag-arCoeff()2\"\n        ],\n        \"semantic_type\": \"\",\n        \"description\": \"\"\n      }\n    },\n    {\n      \"column\": \"correlation\",\n      \"properties\": {\n        \"dtype\": \"number\",\n        \"std\": 0.5067237517534757,\n        \"min\": -0.9959683056671852,\n        \"max\": 1.0,\n        \"num_unique_values\": 19174,\n        \"samples\": [\n          0.8543220086745209,\n          0.8727342878415335,\n          0.9818604473804219\n        ],\n        \"semantic_type\": \"\",\n        \"description\": \"\"\n      }\n    },\n    {\n      \"column\": \"abs_correlation\",\n      \"properties\": {\n        \"dtype\": \"number\",\n        \"std\": 0.048357942580244305,\n        \"min\": 0.8000099985266872,\n        \"max\": 1.0,\n        \"num_unique_values\": 19174,\n        \"samples\": [\n          0.8543220086745209,\n          0.8727342878415335,\n          0.9818604473804219\n        ],\n        \"semantic_type\": \"\",\n        \"description\": \"\"\n      }\n    }\n  ]\n}"
            }
          },
          "metadata": {},
          "execution_count": 19
        }
      ],
      "source": [
        "# The most highly correlated values\n",
        "corr_values.sort_values('correlation', ascending=False).query('abs_correlation>0.8')"
      ]
    },
    {
      "cell_type": "markdown",
      "metadata": {
        "id": "Ln-Vl58tMhdm"
      },
      "source": [
        "## Question 3\n",
        "\n",
        "* Split the data into train and test data sets. This can be done using any method, but consider using Scikit-learn's `StratifiedShuffleSplit` to maintain the same ratio of predictor classes.\n",
        "* Regardless of methods used to split the data, compare the ratio of classes in both the train and test splits.\n"
      ]
    },
    {
      "cell_type": "code",
      "execution_count": 34,
      "metadata": {
        "ExecuteTime": {
          "end_time": "2021-09-17T02:20:13.255496Z",
          "start_time": "2021-09-17T02:20:13.099327Z"
        },
        "colab": {
          "base_uri": "https://localhost:8080/"
        },
        "id": "hqxEPASWMhdm",
        "outputId": "36e4d6d2-07eb-483b-d6d7-7eb026965cf0"
      },
      "outputs": [
        {
          "output_type": "stream",
          "name": "stdout",
          "text": [
            "Requirement already satisfied: imblearn in /usr/local/lib/python3.10/dist-packages (0.0)\n",
            "Requirement already satisfied: imbalanced-learn in /usr/local/lib/python3.10/dist-packages (from imblearn) (0.10.1)\n",
            "Requirement already satisfied: numpy>=1.17.3 in /usr/local/lib/python3.10/dist-packages (from imbalanced-learn->imblearn) (1.25.2)\n",
            "Requirement already satisfied: scipy>=1.3.2 in /usr/local/lib/python3.10/dist-packages (from imbalanced-learn->imblearn) (1.11.4)\n",
            "Requirement already satisfied: scikit-learn>=1.0.2 in /usr/local/lib/python3.10/dist-packages (from imbalanced-learn->imblearn) (1.2.2)\n",
            "Requirement already satisfied: joblib>=1.1.1 in /usr/local/lib/python3.10/dist-packages (from imbalanced-learn->imblearn) (1.3.2)\n",
            "Requirement already satisfied: threadpoolctl>=2.0.0 in /usr/local/lib/python3.10/dist-packages (from imbalanced-learn->imblearn) (3.4.0)\n"
          ]
        }
      ],
      "source": [
        "from sklearn.model_selection import StratifiedShuffleSplit\n",
        "\n",
        "data['Activity'].value_counts()\n",
        "data = data[data['Activity'].isin(data['Activity'].value_counts()[data['Activity'].value_counts() > 1].index)]\n",
        "\n",
        "!pip install imblearn\n",
        "from imblearn.over_sampling import SMOTE\n",
        "\n",
        "smote = SMOTE(random_state=42)\n",
        "X_train, y_train = smote.fit_resample(data[feature_cols], data.Activity)\n",
        "\n",
        "\n",
        "# Get the split indexes\n",
        "strat_shuf_split = StratifiedShuffleSplit(n_splits=1,test_size=0.3, random_state=42)\n",
        "\n",
        "train_idx, test_idx = next(strat_shuf_split.split(data[feature_cols], data.Activity))\n",
        "\n",
        "\n",
        "# Create the dataframes\n",
        "X_train = data.loc[train_idx, feature_cols]\n",
        "y_train = data.loc[train_idx, 'Activity']\n",
        "\n",
        "X_test  = data.loc[test_idx, feature_cols]\n",
        "y_test  = data.loc[test_idx, 'Activity']"
      ]
    },
    {
      "cell_type": "code",
      "execution_count": 35,
      "metadata": {
        "ExecuteTime": {
          "end_time": "2021-09-17T02:20:13.271495Z",
          "start_time": "2021-09-17T02:20:13.257495Z"
        },
        "colab": {
          "base_uri": "https://localhost:8080/"
        },
        "id": "BfZAOH3FMhdm",
        "outputId": "94d787b8-174a-4acb-f96b-dd210a1b192a"
      },
      "outputs": [
        {
          "output_type": "execute_result",
          "data": {
            "text/plain": [
              "2    0.183093\n",
              "0    0.181818\n",
              "3    0.180969\n",
              "1    0.166525\n",
              "5    0.151232\n",
              "4    0.136364\n",
              "Name: Activity, dtype: float64"
            ]
          },
          "metadata": {},
          "execution_count": 35
        }
      ],
      "source": [
        "y_train.value_counts(normalize=True)"
      ]
    },
    {
      "cell_type": "code",
      "execution_count": 36,
      "metadata": {
        "ExecuteTime": {
          "end_time": "2021-09-17T02:20:13.287496Z",
          "start_time": "2021-09-17T02:20:13.274495Z"
        },
        "colab": {
          "base_uri": "https://localhost:8080/"
        },
        "id": "Ski-sOTvMhdm",
        "outputId": "98f4e8d3-ade7-499a-8dc6-fa06ffed04cf"
      },
      "outputs": [
        {
          "output_type": "execute_result",
          "data": {
            "text/plain": [
              "0    0.182359\n",
              "2    0.182359\n",
              "3    0.181368\n",
              "1    0.166501\n",
              "5    0.151635\n",
              "4    0.135778\n",
              "Name: Activity, dtype: float64"
            ]
          },
          "metadata": {},
          "execution_count": 36
        }
      ],
      "source": [
        "y_test.value_counts(normalize=True)"
      ]
    },
    {
      "cell_type": "markdown",
      "metadata": {
        "id": "-EExXSrpMhdn"
      },
      "source": [
        "## Question 4\n",
        "\n",
        "* Fit a logistic regression model without any regularization using all of the features. Be sure to read the documentation about fitting a multi-class model so you understand the coefficient output. Store the model.\n",
        "* Using cross validation to determine the hyperparameters, fit models using L1, and L2 regularization. Store each of these models as well. Note the limitations on multi-class models, solvers, and regularizations. The regularized models, in particular the L1 model, will probably take a while to fit."
      ]
    },
    {
      "cell_type": "code",
      "execution_count": 37,
      "metadata": {
        "ExecuteTime": {
          "end_time": "2021-09-17T03:04:21.034422Z",
          "start_time": "2021-09-17T03:04:18.664864Z"
        },
        "id": "l8zEOrwgMhdn"
      },
      "outputs": [],
      "source": [
        "from sklearn.linear_model import LogisticRegression\n",
        "\n",
        "# Standard logistic regression\n",
        "lr = LogisticRegression(C=.001, max_iter=295).fit(X_train, y_train)"
      ]
    },
    {
      "cell_type": "code",
      "execution_count": 39,
      "metadata": {
        "ExecuteTime": {
          "end_time": "2021-09-17T03:12:43.281330Z",
          "start_time": "2021-09-17T03:04:37.543307Z"
        },
        "id": "TkMWUSlVMhdn"
      },
      "outputs": [],
      "source": [
        "from sklearn.linear_model import LogisticRegressionCV\n",
        "\n",
        "# L1 regularized logistic regression\n",
        "lr_l1 = LogisticRegressionCV(Cs=10, cv=4, penalty='l1', solver='liblinear').fit(X_train, y_train)"
      ]
    },
    {
      "cell_type": "code",
      "execution_count": null,
      "metadata": {
        "ExecuteTime": {
          "end_time": "2021-09-17T02:29:53.904879Z",
          "start_time": "2021-09-17T02:29:53.890832Z"
        },
        "id": "0PPuU9dmMhdn"
      },
      "outputs": [],
      "source": [
        "#Try with different solvers like ‘newton-cg’, ‘lbfgs’, ‘sag’, ‘saga’ and give your observations"
      ]
    },
    {
      "cell_type": "code",
      "execution_count": 40,
      "metadata": {
        "ExecuteTime": {
          "end_time": "2021-09-17T03:12:47.053827Z",
          "start_time": "2021-09-17T03:12:43.283329Z"
        },
        "id": "DdBRuHfXMhdn"
      },
      "outputs": [],
      "source": [
        "# L2 regularized logistic regression\n",
        "lr_l2 = LogisticRegressionCV(Cs=1, cv=4, penalty='l2').fit(X_train, y_train)"
      ]
    },
    {
      "cell_type": "markdown",
      "metadata": {
        "id": "LOyhTTShMhdo"
      },
      "source": [
        "## Question 5\n",
        "\n",
        "Compare the magnitudes of the coefficients for each of the models. If one-vs-rest fitting was used, each set of coefficients can be plotted separately."
      ]
    },
    {
      "cell_type": "code",
      "execution_count": 41,
      "metadata": {
        "ExecuteTime": {
          "end_time": "2021-09-17T03:12:47.181913Z",
          "start_time": "2021-09-17T03:12:47.120912Z"
        },
        "colab": {
          "base_uri": "https://localhost:8080/",
          "height": 414
        },
        "id": "VbX9bHAnMhdo",
        "outputId": "826a4063-69be-4939-b058-5c9c98102c71"
      },
      "outputs": [
        {
          "output_type": "execute_result",
          "data": {
            "text/plain": [
              "           lr                                                     l1  \\\n",
              "            0         1         2         3         4         5    0   \n",
              "383 -0.004692 -0.005953 -0.006278  0.004729  0.020421 -0.008227  0.0   \n",
              "413 -0.000956 -0.001175 -0.001220  0.000740  0.007044 -0.004434  0.0   \n",
              "542 -0.005484 -0.009575 -0.008740  0.021222  0.009548 -0.006972  0.0   \n",
              "42   0.064038  0.000940 -0.041770 -0.009315  0.001220 -0.015113  0.0   \n",
              "96  -0.005471 -0.006775 -0.007163 -0.009199  0.034593 -0.005985  0.0   \n",
              "44  -0.000642  0.007344 -0.001985 -0.006176  0.000256  0.001204  0.0   \n",
              "248  0.001333  0.006301 -0.012317  0.022000  0.019572 -0.036888  0.0   \n",
              "203 -0.012363 -0.015946 -0.023417 -0.017276  0.056030  0.012973  0.0   \n",
              "299  0.003142  0.006518  0.007707 -0.018736 -0.020652  0.022021  0.0   \n",
              "222  0.004230  0.006037  0.002925  0.030762 -0.015644 -0.028311  0.0   \n",
              "\n",
              "                                                             l2            \\\n",
              "            1         2         3         4         5         0         1   \n",
              "383  0.000000  0.000000 -0.291878  0.193943 -0.427694 -0.002371 -0.002401   \n",
              "413  0.121400  0.193098  0.084968  0.145440  0.071701 -0.000499 -0.000510   \n",
              "542  0.000000  0.000000  0.126682 -0.360715  0.230038 -0.003254 -0.003676   \n",
              "42   0.000000 -5.918773  0.000000  0.000000 -0.555906  0.015027 -0.000145   \n",
              "96   0.000000  0.000000 -0.359652  0.000000 -0.318282 -0.002693 -0.002714   \n",
              "44   0.524240  0.494041  0.364175 -0.032757  0.113366 -0.000265  0.000697   \n",
              "248 -0.806654  2.579274  0.915992  0.000000  0.622938  0.000413  0.000906   \n",
              "203  0.000000  0.000000 -1.191934  0.000000  0.761418 -0.006905 -0.007139   \n",
              "299  0.000000  0.548077  0.037043 -0.037799  0.721408  0.001887  0.001924   \n",
              "222  0.000000  1.019117  1.174887  0.000000 -2.125602  0.002413  0.002700   \n",
              "\n",
              "                                             \n",
              "            2         3         4         5  \n",
              "383 -0.002573  0.002614  0.005594 -0.000863  \n",
              "413 -0.000544  0.000228  0.001771 -0.000445  \n",
              "542 -0.003753  0.005606  0.004982  0.000094  \n",
              "42  -0.006537 -0.002966 -0.001169 -0.004210  \n",
              "96  -0.002906  0.000341  0.008165 -0.000194  \n",
              "44  -0.000361 -0.000830  0.000177  0.000581  \n",
              "248 -0.001977  0.003564  0.004298 -0.007203  \n",
              "203 -0.008360  0.002363  0.014343  0.005697  \n",
              "299  0.002226 -0.004428 -0.004856  0.003247  \n",
              "222  0.001931  0.002869 -0.003441 -0.006473  "
            ],
            "text/html": [
              "\n",
              "  <div id=\"df-69c65f97-6802-43d2-8de4-0d4038bf2138\" class=\"colab-df-container\">\n",
              "    <div>\n",
              "<style scoped>\n",
              "    .dataframe tbody tr th:only-of-type {\n",
              "        vertical-align: middle;\n",
              "    }\n",
              "\n",
              "    .dataframe tbody tr th {\n",
              "        vertical-align: top;\n",
              "    }\n",
              "\n",
              "    .dataframe thead tr th {\n",
              "        text-align: left;\n",
              "    }\n",
              "</style>\n",
              "<table border=\"1\" class=\"dataframe\">\n",
              "  <thead>\n",
              "    <tr>\n",
              "      <th></th>\n",
              "      <th colspan=\"6\" halign=\"left\">lr</th>\n",
              "      <th colspan=\"6\" halign=\"left\">l1</th>\n",
              "      <th colspan=\"6\" halign=\"left\">l2</th>\n",
              "    </tr>\n",
              "    <tr>\n",
              "      <th></th>\n",
              "      <th>0</th>\n",
              "      <th>1</th>\n",
              "      <th>2</th>\n",
              "      <th>3</th>\n",
              "      <th>4</th>\n",
              "      <th>5</th>\n",
              "      <th>0</th>\n",
              "      <th>1</th>\n",
              "      <th>2</th>\n",
              "      <th>3</th>\n",
              "      <th>4</th>\n",
              "      <th>5</th>\n",
              "      <th>0</th>\n",
              "      <th>1</th>\n",
              "      <th>2</th>\n",
              "      <th>3</th>\n",
              "      <th>4</th>\n",
              "      <th>5</th>\n",
              "    </tr>\n",
              "  </thead>\n",
              "  <tbody>\n",
              "    <tr>\n",
              "      <th>383</th>\n",
              "      <td>-0.004692</td>\n",
              "      <td>-0.005953</td>\n",
              "      <td>-0.006278</td>\n",
              "      <td>0.004729</td>\n",
              "      <td>0.020421</td>\n",
              "      <td>-0.008227</td>\n",
              "      <td>0.0</td>\n",
              "      <td>0.000000</td>\n",
              "      <td>0.000000</td>\n",
              "      <td>-0.291878</td>\n",
              "      <td>0.193943</td>\n",
              "      <td>-0.427694</td>\n",
              "      <td>-0.002371</td>\n",
              "      <td>-0.002401</td>\n",
              "      <td>-0.002573</td>\n",
              "      <td>0.002614</td>\n",
              "      <td>0.005594</td>\n",
              "      <td>-0.000863</td>\n",
              "    </tr>\n",
              "    <tr>\n",
              "      <th>413</th>\n",
              "      <td>-0.000956</td>\n",
              "      <td>-0.001175</td>\n",
              "      <td>-0.001220</td>\n",
              "      <td>0.000740</td>\n",
              "      <td>0.007044</td>\n",
              "      <td>-0.004434</td>\n",
              "      <td>0.0</td>\n",
              "      <td>0.121400</td>\n",
              "      <td>0.193098</td>\n",
              "      <td>0.084968</td>\n",
              "      <td>0.145440</td>\n",
              "      <td>0.071701</td>\n",
              "      <td>-0.000499</td>\n",
              "      <td>-0.000510</td>\n",
              "      <td>-0.000544</td>\n",
              "      <td>0.000228</td>\n",
              "      <td>0.001771</td>\n",
              "      <td>-0.000445</td>\n",
              "    </tr>\n",
              "    <tr>\n",
              "      <th>542</th>\n",
              "      <td>-0.005484</td>\n",
              "      <td>-0.009575</td>\n",
              "      <td>-0.008740</td>\n",
              "      <td>0.021222</td>\n",
              "      <td>0.009548</td>\n",
              "      <td>-0.006972</td>\n",
              "      <td>0.0</td>\n",
              "      <td>0.000000</td>\n",
              "      <td>0.000000</td>\n",
              "      <td>0.126682</td>\n",
              "      <td>-0.360715</td>\n",
              "      <td>0.230038</td>\n",
              "      <td>-0.003254</td>\n",
              "      <td>-0.003676</td>\n",
              "      <td>-0.003753</td>\n",
              "      <td>0.005606</td>\n",
              "      <td>0.004982</td>\n",
              "      <td>0.000094</td>\n",
              "    </tr>\n",
              "    <tr>\n",
              "      <th>42</th>\n",
              "      <td>0.064038</td>\n",
              "      <td>0.000940</td>\n",
              "      <td>-0.041770</td>\n",
              "      <td>-0.009315</td>\n",
              "      <td>0.001220</td>\n",
              "      <td>-0.015113</td>\n",
              "      <td>0.0</td>\n",
              "      <td>0.000000</td>\n",
              "      <td>-5.918773</td>\n",
              "      <td>0.000000</td>\n",
              "      <td>0.000000</td>\n",
              "      <td>-0.555906</td>\n",
              "      <td>0.015027</td>\n",
              "      <td>-0.000145</td>\n",
              "      <td>-0.006537</td>\n",
              "      <td>-0.002966</td>\n",
              "      <td>-0.001169</td>\n",
              "      <td>-0.004210</td>\n",
              "    </tr>\n",
              "    <tr>\n",
              "      <th>96</th>\n",
              "      <td>-0.005471</td>\n",
              "      <td>-0.006775</td>\n",
              "      <td>-0.007163</td>\n",
              "      <td>-0.009199</td>\n",
              "      <td>0.034593</td>\n",
              "      <td>-0.005985</td>\n",
              "      <td>0.0</td>\n",
              "      <td>0.000000</td>\n",
              "      <td>0.000000</td>\n",
              "      <td>-0.359652</td>\n",
              "      <td>0.000000</td>\n",
              "      <td>-0.318282</td>\n",
              "      <td>-0.002693</td>\n",
              "      <td>-0.002714</td>\n",
              "      <td>-0.002906</td>\n",
              "      <td>0.000341</td>\n",
              "      <td>0.008165</td>\n",
              "      <td>-0.000194</td>\n",
              "    </tr>\n",
              "    <tr>\n",
              "      <th>44</th>\n",
              "      <td>-0.000642</td>\n",
              "      <td>0.007344</td>\n",
              "      <td>-0.001985</td>\n",
              "      <td>-0.006176</td>\n",
              "      <td>0.000256</td>\n",
              "      <td>0.001204</td>\n",
              "      <td>0.0</td>\n",
              "      <td>0.524240</td>\n",
              "      <td>0.494041</td>\n",
              "      <td>0.364175</td>\n",
              "      <td>-0.032757</td>\n",
              "      <td>0.113366</td>\n",
              "      <td>-0.000265</td>\n",
              "      <td>0.000697</td>\n",
              "      <td>-0.000361</td>\n",
              "      <td>-0.000830</td>\n",
              "      <td>0.000177</td>\n",
              "      <td>0.000581</td>\n",
              "    </tr>\n",
              "    <tr>\n",
              "      <th>248</th>\n",
              "      <td>0.001333</td>\n",
              "      <td>0.006301</td>\n",
              "      <td>-0.012317</td>\n",
              "      <td>0.022000</td>\n",
              "      <td>0.019572</td>\n",
              "      <td>-0.036888</td>\n",
              "      <td>0.0</td>\n",
              "      <td>-0.806654</td>\n",
              "      <td>2.579274</td>\n",
              "      <td>0.915992</td>\n",
              "      <td>0.000000</td>\n",
              "      <td>0.622938</td>\n",
              "      <td>0.000413</td>\n",
              "      <td>0.000906</td>\n",
              "      <td>-0.001977</td>\n",
              "      <td>0.003564</td>\n",
              "      <td>0.004298</td>\n",
              "      <td>-0.007203</td>\n",
              "    </tr>\n",
              "    <tr>\n",
              "      <th>203</th>\n",
              "      <td>-0.012363</td>\n",
              "      <td>-0.015946</td>\n",
              "      <td>-0.023417</td>\n",
              "      <td>-0.017276</td>\n",
              "      <td>0.056030</td>\n",
              "      <td>0.012973</td>\n",
              "      <td>0.0</td>\n",
              "      <td>0.000000</td>\n",
              "      <td>0.000000</td>\n",
              "      <td>-1.191934</td>\n",
              "      <td>0.000000</td>\n",
              "      <td>0.761418</td>\n",
              "      <td>-0.006905</td>\n",
              "      <td>-0.007139</td>\n",
              "      <td>-0.008360</td>\n",
              "      <td>0.002363</td>\n",
              "      <td>0.014343</td>\n",
              "      <td>0.005697</td>\n",
              "    </tr>\n",
              "    <tr>\n",
              "      <th>299</th>\n",
              "      <td>0.003142</td>\n",
              "      <td>0.006518</td>\n",
              "      <td>0.007707</td>\n",
              "      <td>-0.018736</td>\n",
              "      <td>-0.020652</td>\n",
              "      <td>0.022021</td>\n",
              "      <td>0.0</td>\n",
              "      <td>0.000000</td>\n",
              "      <td>0.548077</td>\n",
              "      <td>0.037043</td>\n",
              "      <td>-0.037799</td>\n",
              "      <td>0.721408</td>\n",
              "      <td>0.001887</td>\n",
              "      <td>0.001924</td>\n",
              "      <td>0.002226</td>\n",
              "      <td>-0.004428</td>\n",
              "      <td>-0.004856</td>\n",
              "      <td>0.003247</td>\n",
              "    </tr>\n",
              "    <tr>\n",
              "      <th>222</th>\n",
              "      <td>0.004230</td>\n",
              "      <td>0.006037</td>\n",
              "      <td>0.002925</td>\n",
              "      <td>0.030762</td>\n",
              "      <td>-0.015644</td>\n",
              "      <td>-0.028311</td>\n",
              "      <td>0.0</td>\n",
              "      <td>0.000000</td>\n",
              "      <td>1.019117</td>\n",
              "      <td>1.174887</td>\n",
              "      <td>0.000000</td>\n",
              "      <td>-2.125602</td>\n",
              "      <td>0.002413</td>\n",
              "      <td>0.002700</td>\n",
              "      <td>0.001931</td>\n",
              "      <td>0.002869</td>\n",
              "      <td>-0.003441</td>\n",
              "      <td>-0.006473</td>\n",
              "    </tr>\n",
              "  </tbody>\n",
              "</table>\n",
              "</div>\n",
              "    <div class=\"colab-df-buttons\">\n",
              "\n",
              "  <div class=\"colab-df-container\">\n",
              "    <button class=\"colab-df-convert\" onclick=\"convertToInteractive('df-69c65f97-6802-43d2-8de4-0d4038bf2138')\"\n",
              "            title=\"Convert this dataframe to an interactive table.\"\n",
              "            style=\"display:none;\">\n",
              "\n",
              "  <svg xmlns=\"http://www.w3.org/2000/svg\" height=\"24px\" viewBox=\"0 -960 960 960\">\n",
              "    <path d=\"M120-120v-720h720v720H120Zm60-500h600v-160H180v160Zm220 220h160v-160H400v160Zm0 220h160v-160H400v160ZM180-400h160v-160H180v160Zm440 0h160v-160H620v160ZM180-180h160v-160H180v160Zm440 0h160v-160H620v160Z\"/>\n",
              "  </svg>\n",
              "    </button>\n",
              "\n",
              "  <style>\n",
              "    .colab-df-container {\n",
              "      display:flex;\n",
              "      gap: 12px;\n",
              "    }\n",
              "\n",
              "    .colab-df-convert {\n",
              "      background-color: #E8F0FE;\n",
              "      border: none;\n",
              "      border-radius: 50%;\n",
              "      cursor: pointer;\n",
              "      display: none;\n",
              "      fill: #1967D2;\n",
              "      height: 32px;\n",
              "      padding: 0 0 0 0;\n",
              "      width: 32px;\n",
              "    }\n",
              "\n",
              "    .colab-df-convert:hover {\n",
              "      background-color: #E2EBFA;\n",
              "      box-shadow: 0px 1px 2px rgba(60, 64, 67, 0.3), 0px 1px 3px 1px rgba(60, 64, 67, 0.15);\n",
              "      fill: #174EA6;\n",
              "    }\n",
              "\n",
              "    .colab-df-buttons div {\n",
              "      margin-bottom: 4px;\n",
              "    }\n",
              "\n",
              "    [theme=dark] .colab-df-convert {\n",
              "      background-color: #3B4455;\n",
              "      fill: #D2E3FC;\n",
              "    }\n",
              "\n",
              "    [theme=dark] .colab-df-convert:hover {\n",
              "      background-color: #434B5C;\n",
              "      box-shadow: 0px 1px 3px 1px rgba(0, 0, 0, 0.15);\n",
              "      filter: drop-shadow(0px 1px 2px rgba(0, 0, 0, 0.3));\n",
              "      fill: #FFFFFF;\n",
              "    }\n",
              "  </style>\n",
              "\n",
              "    <script>\n",
              "      const buttonEl =\n",
              "        document.querySelector('#df-69c65f97-6802-43d2-8de4-0d4038bf2138 button.colab-df-convert');\n",
              "      buttonEl.style.display =\n",
              "        google.colab.kernel.accessAllowed ? 'block' : 'none';\n",
              "\n",
              "      async function convertToInteractive(key) {\n",
              "        const element = document.querySelector('#df-69c65f97-6802-43d2-8de4-0d4038bf2138');\n",
              "        const dataTable =\n",
              "          await google.colab.kernel.invokeFunction('convertToInteractive',\n",
              "                                                    [key], {});\n",
              "        if (!dataTable) return;\n",
              "\n",
              "        const docLinkHtml = 'Like what you see? Visit the ' +\n",
              "          '<a target=\"_blank\" href=https://colab.research.google.com/notebooks/data_table.ipynb>data table notebook</a>'\n",
              "          + ' to learn more about interactive tables.';\n",
              "        element.innerHTML = '';\n",
              "        dataTable['output_type'] = 'display_data';\n",
              "        await google.colab.output.renderOutput(dataTable, element);\n",
              "        const docLink = document.createElement('div');\n",
              "        docLink.innerHTML = docLinkHtml;\n",
              "        element.appendChild(docLink);\n",
              "      }\n",
              "    </script>\n",
              "  </div>\n",
              "\n",
              "\n",
              "<div id=\"df-771a7ac1-bf21-4886-908d-c7e41d059c83\">\n",
              "  <button class=\"colab-df-quickchart\" onclick=\"quickchart('df-771a7ac1-bf21-4886-908d-c7e41d059c83')\"\n",
              "            title=\"Suggest charts\"\n",
              "            style=\"display:none;\">\n",
              "\n",
              "<svg xmlns=\"http://www.w3.org/2000/svg\" height=\"24px\"viewBox=\"0 0 24 24\"\n",
              "     width=\"24px\">\n",
              "    <g>\n",
              "        <path d=\"M19 3H5c-1.1 0-2 .9-2 2v14c0 1.1.9 2 2 2h14c1.1 0 2-.9 2-2V5c0-1.1-.9-2-2-2zM9 17H7v-7h2v7zm4 0h-2V7h2v10zm4 0h-2v-4h2v4z\"/>\n",
              "    </g>\n",
              "</svg>\n",
              "  </button>\n",
              "\n",
              "<style>\n",
              "  .colab-df-quickchart {\n",
              "      --bg-color: #E8F0FE;\n",
              "      --fill-color: #1967D2;\n",
              "      --hover-bg-color: #E2EBFA;\n",
              "      --hover-fill-color: #174EA6;\n",
              "      --disabled-fill-color: #AAA;\n",
              "      --disabled-bg-color: #DDD;\n",
              "  }\n",
              "\n",
              "  [theme=dark] .colab-df-quickchart {\n",
              "      --bg-color: #3B4455;\n",
              "      --fill-color: #D2E3FC;\n",
              "      --hover-bg-color: #434B5C;\n",
              "      --hover-fill-color: #FFFFFF;\n",
              "      --disabled-bg-color: #3B4455;\n",
              "      --disabled-fill-color: #666;\n",
              "  }\n",
              "\n",
              "  .colab-df-quickchart {\n",
              "    background-color: var(--bg-color);\n",
              "    border: none;\n",
              "    border-radius: 50%;\n",
              "    cursor: pointer;\n",
              "    display: none;\n",
              "    fill: var(--fill-color);\n",
              "    height: 32px;\n",
              "    padding: 0;\n",
              "    width: 32px;\n",
              "  }\n",
              "\n",
              "  .colab-df-quickchart:hover {\n",
              "    background-color: var(--hover-bg-color);\n",
              "    box-shadow: 0 1px 2px rgba(60, 64, 67, 0.3), 0 1px 3px 1px rgba(60, 64, 67, 0.15);\n",
              "    fill: var(--button-hover-fill-color);\n",
              "  }\n",
              "\n",
              "  .colab-df-quickchart-complete:disabled,\n",
              "  .colab-df-quickchart-complete:disabled:hover {\n",
              "    background-color: var(--disabled-bg-color);\n",
              "    fill: var(--disabled-fill-color);\n",
              "    box-shadow: none;\n",
              "  }\n",
              "\n",
              "  .colab-df-spinner {\n",
              "    border: 2px solid var(--fill-color);\n",
              "    border-color: transparent;\n",
              "    border-bottom-color: var(--fill-color);\n",
              "    animation:\n",
              "      spin 1s steps(1) infinite;\n",
              "  }\n",
              "\n",
              "  @keyframes spin {\n",
              "    0% {\n",
              "      border-color: transparent;\n",
              "      border-bottom-color: var(--fill-color);\n",
              "      border-left-color: var(--fill-color);\n",
              "    }\n",
              "    20% {\n",
              "      border-color: transparent;\n",
              "      border-left-color: var(--fill-color);\n",
              "      border-top-color: var(--fill-color);\n",
              "    }\n",
              "    30% {\n",
              "      border-color: transparent;\n",
              "      border-left-color: var(--fill-color);\n",
              "      border-top-color: var(--fill-color);\n",
              "      border-right-color: var(--fill-color);\n",
              "    }\n",
              "    40% {\n",
              "      border-color: transparent;\n",
              "      border-right-color: var(--fill-color);\n",
              "      border-top-color: var(--fill-color);\n",
              "    }\n",
              "    60% {\n",
              "      border-color: transparent;\n",
              "      border-right-color: var(--fill-color);\n",
              "    }\n",
              "    80% {\n",
              "      border-color: transparent;\n",
              "      border-right-color: var(--fill-color);\n",
              "      border-bottom-color: var(--fill-color);\n",
              "    }\n",
              "    90% {\n",
              "      border-color: transparent;\n",
              "      border-bottom-color: var(--fill-color);\n",
              "    }\n",
              "  }\n",
              "</style>\n",
              "\n",
              "  <script>\n",
              "    async function quickchart(key) {\n",
              "      const quickchartButtonEl =\n",
              "        document.querySelector('#' + key + ' button');\n",
              "      quickchartButtonEl.disabled = true;  // To prevent multiple clicks.\n",
              "      quickchartButtonEl.classList.add('colab-df-spinner');\n",
              "      try {\n",
              "        const charts = await google.colab.kernel.invokeFunction(\n",
              "            'suggestCharts', [key], {});\n",
              "      } catch (error) {\n",
              "        console.error('Error during call to suggestCharts:', error);\n",
              "      }\n",
              "      quickchartButtonEl.classList.remove('colab-df-spinner');\n",
              "      quickchartButtonEl.classList.add('colab-df-quickchart-complete');\n",
              "    }\n",
              "    (() => {\n",
              "      let quickchartButtonEl =\n",
              "        document.querySelector('#df-771a7ac1-bf21-4886-908d-c7e41d059c83 button');\n",
              "      quickchartButtonEl.style.display =\n",
              "        google.colab.kernel.accessAllowed ? 'block' : 'none';\n",
              "    })();\n",
              "  </script>\n",
              "</div>\n",
              "\n",
              "    </div>\n",
              "  </div>\n"
            ],
            "application/vnd.google.colaboratory.intrinsic+json": {
              "type": "dataframe",
              "summary": "{\n  \"name\": \"coefficients\",\n  \"rows\": 10,\n  \"fields\": [\n    {\n      \"column\": [\n        \"lr\",\n        0\n      ],\n      \"properties\": {\n        \"dtype\": \"number\",\n        \"std\": 0.02155222795604615,\n        \"min\": -0.012363176016474457,\n        \"max\": 0.06403760006124018,\n        \"num_unique_values\": 10,\n        \"samples\": [\n          0.0031417385874079585,\n          -0.0009555500717924306,\n          -0.0006423206204219725\n        ],\n        \"semantic_type\": \"\",\n        \"description\": \"\"\n      }\n    },\n    {\n      \"column\": [\n        \"lr\",\n        1\n      ],\n      \"properties\": {\n        \"dtype\": \"number\",\n        \"std\": 0.008076276333854177,\n        \"min\": -0.015946237675420763,\n        \"max\": 0.00734371397335532,\n        \"num_unique_values\": 10,\n        \"samples\": [\n          0.00651838698163722,\n          -0.0011745855140250397,\n          0.00734371397335532\n        ],\n        \"semantic_type\": \"\",\n        \"description\": \"\"\n      }\n    },\n    {\n      \"column\": [\n        \"lr\",\n        2\n      ],\n      \"properties\": {\n        \"dtype\": \"number\",\n        \"std\": 0.014275561178755983,\n        \"min\": -0.041769741345582444,\n        \"max\": 0.007706553100487756,\n        \"num_unique_values\": 10,\n        \"samples\": [\n          0.007706553100487756,\n          -0.0012197915777494824,\n          -0.0019850248012988495\n        ],\n        \"semantic_type\": \"\",\n        \"description\": \"\"\n      }\n    },\n    {\n      \"column\": [\n        \"lr\",\n        3\n      ],\n      \"properties\": {\n        \"dtype\": \"number\",\n        \"std\": 0.017408212174984065,\n        \"min\": -0.018735563104905737,\n        \"max\": 0.030761683587033455,\n        \"num_unique_values\": 10,\n        \"samples\": [\n          -0.018735563104905737,\n          0.0007401056620402598,\n          -0.006176037021712345\n        ],\n        \"semantic_type\": \"\",\n        \"description\": \"\"\n      }\n    },\n    {\n      \"column\": [\n        \"lr\",\n        4\n      ],\n      \"properties\": {\n        \"dtype\": \"number\",\n        \"std\": 0.02281964713884727,\n        \"min\": -0.020652376793397452,\n        \"max\": 0.05603033072654695,\n        \"num_unique_values\": 10,\n        \"samples\": [\n          -0.020652376793397452,\n          0.007043824143785956,\n          0.0002560942911921735\n        ],\n        \"semantic_type\": \"\",\n        \"description\": \"\"\n      }\n    },\n    {\n      \"column\": [\n        \"lr\",\n        5\n      ],\n      \"properties\": {\n        \"dtype\": \"number\",\n        \"std\": 0.017419107265682663,\n        \"min\": -0.03688828707805604,\n        \"max\": 0.02202126122877021,\n        \"num_unique_values\": 10,\n        \"samples\": [\n          0.02202126122877021,\n          -0.00443400264225926,\n          0.0012035741788856567\n        ],\n        \"semantic_type\": \"\",\n        \"description\": \"\"\n      }\n    },\n    {\n      \"column\": [\n        \"l1\",\n        0\n      ],\n      \"properties\": {\n        \"dtype\": \"number\",\n        \"std\": 0.0,\n        \"min\": 0.0,\n        \"max\": 0.0,\n        \"num_unique_values\": 1,\n        \"samples\": [\n          0.0\n        ],\n        \"semantic_type\": \"\",\n        \"description\": \"\"\n      }\n    },\n    {\n      \"column\": [\n        \"l1\",\n        1\n      ],\n      \"properties\": {\n        \"dtype\": \"number\",\n        \"std\": 0.32277694339361407,\n        \"min\": -0.8066544467784897,\n        \"max\": 0.5242401495221909,\n        \"num_unique_values\": 4,\n        \"samples\": [\n          0.12140024069640815\n        ],\n        \"semantic_type\": \"\",\n        \"description\": \"\"\n      }\n    },\n    {\n      \"column\": [\n        \"l1\",\n        2\n      ],\n      \"properties\": {\n        \"dtype\": \"number\",\n        \"std\": 2.190563558772529,\n        \"min\": -5.918772907027628,\n        \"max\": 2.579273681946365,\n        \"num_unique_values\": 7,\n        \"samples\": [\n          0.0\n        ],\n        \"semantic_type\": \"\",\n        \"description\": \"\"\n      }\n    },\n    {\n      \"column\": [\n        \"l1\",\n        3\n      ],\n      \"properties\": {\n        \"dtype\": \"number\",\n        \"std\": 0.6614716283434822,\n        \"min\": -1.1919336106943588,\n        \"max\": 1.1748867773675047,\n        \"num_unique_values\": 10,\n        \"samples\": [\n          0.03704304655257355\n        ],\n        \"semantic_type\": \"\",\n        \"description\": \"\"\n      }\n    },\n    {\n      \"column\": [\n        \"l1\",\n        4\n      ],\n      \"properties\": {\n        \"dtype\": \"number\",\n        \"std\": 0.1455027010184525,\n        \"min\": -0.36071478533976553,\n        \"max\": 0.19394334021338333,\n        \"num_unique_values\": 6,\n        \"samples\": [\n          0.19394334021338333\n        ],\n        \"semantic_type\": \"\",\n        \"description\": \"\"\n      }\n    },\n    {\n      \"column\": [\n        \"l1\",\n        5\n      ],\n      \"properties\": {\n        \"dtype\": \"number\",\n        \"std\": 0.8555956818774936,\n        \"min\": -2.125602021878018,\n        \"max\": 0.7614184792364125,\n        \"num_unique_values\": 10,\n        \"samples\": [\n          0.7214081356814656\n        ],\n        \"semantic_type\": \"\",\n        \"description\": \"\"\n      }\n    },\n    {\n      \"column\": [\n        \"l2\",\n        0\n      ],\n      \"properties\": {\n        \"dtype\": \"number\",\n        \"std\": 0.0058253325421974795,\n        \"min\": -0.006904509866246709,\n        \"max\": 0.015027314183125402,\n        \"num_unique_values\": 10,\n        \"samples\": [\n          0.0018868611118816796\n        ],\n        \"semantic_type\": \"\",\n        \"description\": \"\"\n      }\n    },\n    {\n      \"column\": [\n        \"l2\",\n        1\n      ],\n      \"properties\": {\n        \"dtype\": \"number\",\n        \"std\": 0.002971462873734361,\n        \"min\": -0.007139205199148902,\n        \"max\": 0.0027004658758039055,\n        \"num_unique_values\": 10,\n        \"samples\": [\n          0.0019241414740939053\n        ],\n        \"semantic_type\": \"\",\n        \"description\": \"\"\n      }\n    },\n    {\n      \"column\": [\n        \"l2\",\n        2\n      ],\n      \"properties\": {\n        \"dtype\": \"number\",\n        \"std\": 0.0033757437390383336,\n        \"min\": -0.008360429618967576,\n        \"max\": 0.00222588129717782,\n        \"num_unique_values\": 10,\n        \"samples\": [\n          0.00222588129717782\n        ],\n        \"semantic_type\": \"\",\n        \"description\": \"\"\n      }\n    },\n    {\n      \"column\": [\n        \"l2\",\n        3\n      ],\n      \"properties\": {\n        \"dtype\": \"number\",\n        \"std\": 0.0030780283527447982,\n        \"min\": -0.004427593119212933,\n        \"max\": 0.005605722827556176,\n        \"num_unique_values\": 10,\n        \"samples\": [\n          -0.004427593119212933\n        ],\n        \"semantic_type\": \"\",\n        \"description\": \"\"\n      }\n    },\n    {\n      \"column\": [\n        \"l2\",\n        4\n      ],\n      \"properties\": {\n        \"dtype\": \"number\",\n        \"std\": 0.005751884617234681,\n        \"min\": -0.004856088993348732,\n        \"max\": 0.014343483179434173,\n        \"num_unique_values\": 10,\n        \"samples\": [\n          -0.004856088993348732\n        ],\n        \"semantic_type\": \"\",\n        \"description\": \"\"\n      }\n    },\n    {\n      \"column\": [\n        \"l2\",\n        5\n      ],\n      \"properties\": {\n        \"dtype\": \"number\",\n        \"std\": 0.004031712169088546,\n        \"min\": -0.007203392635719823,\n        \"max\": 0.005697210315475437,\n        \"num_unique_values\": 10,\n        \"samples\": [\n          0.00324679822940826\n        ],\n        \"semantic_type\": \"\",\n        \"description\": \"\"\n      }\n    }\n  ]\n}"
            }
          },
          "metadata": {},
          "execution_count": 41
        }
      ],
      "source": [
        "# Combine all the coefficients into a dataframe\n",
        "coefficients = list()\n",
        "\n",
        "coeff_labels = ['lr', 'l1', 'l2']\n",
        "coeff_models = [lr, lr_l1, lr_l2]\n",
        "\n",
        "for lab,mod in zip(coeff_labels, coeff_models):\n",
        "    coeffs = mod.coef_\n",
        "    coeff_label = pd.MultiIndex(levels=[[lab], [0,1,2,3,4,5]],\n",
        "                                 codes=[[0,0,0,0,0,0], [0,1,2,3,4,5]])\n",
        "    coefficients.append(pd.DataFrame(coeffs.T, columns=coeff_label))\n",
        "\n",
        "coefficients = pd.concat(coefficients, axis=1)\n",
        "\n",
        "coefficients.sample(10)"
      ]
    },
    {
      "cell_type": "markdown",
      "metadata": {
        "id": "SuVJoG7uMhdo"
      },
      "source": [
        "Prepare six separate plots for each of the multi-class coefficients."
      ]
    },
    {
      "cell_type": "code",
      "execution_count": 42,
      "metadata": {
        "ExecuteTime": {
          "end_time": "2021-09-17T03:12:48.946569Z",
          "start_time": "2021-09-17T03:12:47.184915Z"
        },
        "colab": {
          "base_uri": "https://localhost:8080/",
          "height": 681
        },
        "id": "xo5tkvIZMhdo",
        "outputId": "0f921bb0-c3d9-40ff-af28-de503e3975b0"
      },
      "outputs": [
        {
          "output_type": "display_data",
          "data": {
            "text/plain": [
              "<Figure size 1000x1000 with 6 Axes>"
            ],
            "image/png": "[encoded data removed]"
          },
          "metadata": {}
        }
      ],
      "source": [
        "fig, axList = plt.subplots(nrows=3, ncols=2)\n",
        "axList = axList.flatten()\n",
        "fig.set_size_inches(10,10)\n",
        "\n",
        "\n",
        "for ax in enumerate(axList):\n",
        "    loc = ax[0]\n",
        "    ax = ax[1]\n",
        "\n",
        "    data = coefficients.xs(loc, level=1, axis=1)\n",
        "    data.plot(marker='o', ls='', ms=2.0, ax=ax, legend=False)\n",
        "\n",
        "    if ax is axList[0]:\n",
        "        ax.legend(loc=4)\n",
        "\n",
        "    ax.set(title='Coefficient Set '+str(loc))\n",
        "\n",
        "plt.tight_layout()\n"
      ]
    },
    {
      "cell_type": "markdown",
      "metadata": {
        "id": "xSrKYuOhMhdo"
      },
      "source": [
        "## Question 6\n",
        "\n",
        "* Predict and store the class for each model.\n",
        "* Also store the probability for the predicted class for each model."
      ]
    },
    {
      "cell_type": "code",
      "execution_count": 43,
      "metadata": {
        "ExecuteTime": {
          "end_time": "2021-09-17T03:12:49.026658Z",
          "start_time": "2021-09-17T03:12:48.948608Z"
        },
        "colab": {
          "base_uri": "https://localhost:8080/",
          "height": 206
        },
        "id": "qJysFSEpMhdp",
        "outputId": "d9fb94b3-29e0-4d53-f0a3-f28be275d831"
      },
      "outputs": [
        {
          "output_type": "execute_result",
          "data": {
            "text/plain": [
              "   lr  l1  l2\n",
              "0   2   1   2\n",
              "1   5   5   3\n",
              "2   0   0   0\n",
              "3   3   3   3\n",
              "4   2   1   2"
            ],
            "text/html": [
              "\n",
              "  <div id=\"df-a0ec60ab-9f38-43e1-bdda-c57c176853f7\" class=\"colab-df-container\">\n",
              "    <div>\n",
              "<style scoped>\n",
              "    .dataframe tbody tr th:only-of-type {\n",
              "        vertical-align: middle;\n",
              "    }\n",
              "\n",
              "    .dataframe tbody tr th {\n",
              "        vertical-align: top;\n",
              "    }\n",
              "\n",
              "    .dataframe thead th {\n",
              "        text-align: right;\n",
              "    }\n",
              "</style>\n",
              "<table border=\"1\" class=\"dataframe\">\n",
              "  <thead>\n",
              "    <tr style=\"text-align: right;\">\n",
              "      <th></th>\n",
              "      <th>lr</th>\n",
              "      <th>l1</th>\n",
              "      <th>l2</th>\n",
              "    </tr>\n",
              "  </thead>\n",
              "  <tbody>\n",
              "    <tr>\n",
              "      <th>0</th>\n",
              "      <td>2</td>\n",
              "      <td>1</td>\n",
              "      <td>2</td>\n",
              "    </tr>\n",
              "    <tr>\n",
              "      <th>1</th>\n",
              "      <td>5</td>\n",
              "      <td>5</td>\n",
              "      <td>3</td>\n",
              "    </tr>\n",
              "    <tr>\n",
              "      <th>2</th>\n",
              "      <td>0</td>\n",
              "      <td>0</td>\n",
              "      <td>0</td>\n",
              "    </tr>\n",
              "    <tr>\n",
              "      <th>3</th>\n",
              "      <td>3</td>\n",
              "      <td>3</td>\n",
              "      <td>3</td>\n",
              "    </tr>\n",
              "    <tr>\n",
              "      <th>4</th>\n",
              "      <td>2</td>\n",
              "      <td>1</td>\n",
              "      <td>2</td>\n",
              "    </tr>\n",
              "  </tbody>\n",
              "</table>\n",
              "</div>\n",
              "    <div class=\"colab-df-buttons\">\n",
              "\n",
              "  <div class=\"colab-df-container\">\n",
              "    <button class=\"colab-df-convert\" onclick=\"convertToInteractive('df-a0ec60ab-9f38-43e1-bdda-c57c176853f7')\"\n",
              "            title=\"Convert this dataframe to an interactive table.\"\n",
              "            style=\"display:none;\">\n",
              "\n",
              "  <svg xmlns=\"http://www.w3.org/2000/svg\" height=\"24px\" viewBox=\"0 -960 960 960\">\n",
              "    <path d=\"M120-120v-720h720v720H120Zm60-500h600v-160H180v160Zm220 220h160v-160H400v160Zm0 220h160v-160H400v160ZM180-400h160v-160H180v160Zm440 0h160v-160H620v160ZM180-180h160v-160H180v160Zm440 0h160v-160H620v160Z\"/>\n",
              "  </svg>\n",
              "    </button>\n",
              "\n",
              "  <style>\n",
              "    .colab-df-container {\n",
              "      display:flex;\n",
              "      gap: 12px;\n",
              "    }\n",
              "\n",
              "    .colab-df-convert {\n",
              "      background-color: #E8F0FE;\n",
              "      border: none;\n",
              "      border-radius: 50%;\n",
              "      cursor: pointer;\n",
              "      display: none;\n",
              "      fill: #1967D2;\n",
              "      height: 32px;\n",
              "      padding: 0 0 0 0;\n",
              "      width: 32px;\n",
              "    }\n",
              "\n",
              "    .colab-df-convert:hover {\n",
              "      background-color: #E2EBFA;\n",
              "      box-shadow: 0px 1px 2px rgba(60, 64, 67, 0.3), 0px 1px 3px 1px rgba(60, 64, 67, 0.15);\n",
              "      fill: #174EA6;\n",
              "    }\n",
              "\n",
              "    .colab-df-buttons div {\n",
              "      margin-bottom: 4px;\n",
              "    }\n",
              "\n",
              "    [theme=dark] .colab-df-convert {\n",
              "      background-color: #3B4455;\n",
              "      fill: #D2E3FC;\n",
              "    }\n",
              "\n",
              "    [theme=dark] .colab-df-convert:hover {\n",
              "      background-color: #434B5C;\n",
              "      box-shadow: 0px 1px 3px 1px rgba(0, 0, 0, 0.15);\n",
              "      filter: drop-shadow(0px 1px 2px rgba(0, 0, 0, 0.3));\n",
              "      fill: #FFFFFF;\n",
              "    }\n",
              "  </style>\n",
              "\n",
              "    <script>\n",
              "      const buttonEl =\n",
              "        document.querySelector('#df-a0ec60ab-9f38-43e1-bdda-c57c176853f7 button.colab-df-convert');\n",
              "      buttonEl.style.display =\n",
              "        google.colab.kernel.accessAllowed ? 'block' : 'none';\n",
              "\n",
              "      async function convertToInteractive(key) {\n",
              "        const element = document.querySelector('#df-a0ec60ab-9f38-43e1-bdda-c57c176853f7');\n",
              "        const dataTable =\n",
              "          await google.colab.kernel.invokeFunction('convertToInteractive',\n",
              "                                                    [key], {});\n",
              "        if (!dataTable) return;\n",
              "\n",
              "        const docLinkHtml = 'Like what you see? Visit the ' +\n",
              "          '<a target=\"_blank\" href=https://colab.research.google.com/notebooks/data_table.ipynb>data table notebook</a>'\n",
              "          + ' to learn more about interactive tables.';\n",
              "        element.innerHTML = '';\n",
              "        dataTable['output_type'] = 'display_data';\n",
              "        await google.colab.output.renderOutput(dataTable, element);\n",
              "        const docLink = document.createElement('div');\n",
              "        docLink.innerHTML = docLinkHtml;\n",
              "        element.appendChild(docLink);\n",
              "      }\n",
              "    </script>\n",
              "  </div>\n",
              "\n",
              "\n",
              "<div id=\"df-7582286b-97f0-4dd1-a6a7-b17d6bb4f8f4\">\n",
              "  <button class=\"colab-df-quickchart\" onclick=\"quickchart('df-7582286b-97f0-4dd1-a6a7-b17d6bb4f8f4')\"\n",
              "            title=\"Suggest charts\"\n",
              "            style=\"display:none;\">\n",
              "\n",
              "<svg xmlns=\"http://www.w3.org/2000/svg\" height=\"24px\"viewBox=\"0 0 24 24\"\n",
              "     width=\"24px\">\n",
              "    <g>\n",
              "        <path d=\"M19 3H5c-1.1 0-2 .9-2 2v14c0 1.1.9 2 2 2h14c1.1 0 2-.9 2-2V5c0-1.1-.9-2-2-2zM9 17H7v-7h2v7zm4 0h-2V7h2v10zm4 0h-2v-4h2v4z\"/>\n",
              "    </g>\n",
              "</svg>\n",
              "  </button>\n",
              "\n",
              "<style>\n",
              "  .colab-df-quickchart {\n",
              "      --bg-color: #E8F0FE;\n",
              "      --fill-color: #1967D2;\n",
              "      --hover-bg-color: #E2EBFA;\n",
              "      --hover-fill-color: #174EA6;\n",
              "      --disabled-fill-color: #AAA;\n",
              "      --disabled-bg-color: #DDD;\n",
              "  }\n",
              "\n",
              "  [theme=dark] .colab-df-quickchart {\n",
              "      --bg-color: #3B4455;\n",
              "      --fill-color: #D2E3FC;\n",
              "      --hover-bg-color: #434B5C;\n",
              "      --hover-fill-color: #FFFFFF;\n",
              "      --disabled-bg-color: #3B4455;\n",
              "      --disabled-fill-color: #666;\n",
              "  }\n",
              "\n",
              "  .colab-df-quickchart {\n",
              "    background-color: var(--bg-color);\n",
              "    border: none;\n",
              "    border-radius: 50%;\n",
              "    cursor: pointer;\n",
              "    display: none;\n",
              "    fill: var(--fill-color);\n",
              "    height: 32px;\n",
              "    padding: 0;\n",
              "    width: 32px;\n",
              "  }\n",
              "\n",
              "  .colab-df-quickchart:hover {\n",
              "    background-color: var(--hover-bg-color);\n",
              "    box-shadow: 0 1px 2px rgba(60, 64, 67, 0.3), 0 1px 3px 1px rgba(60, 64, 67, 0.15);\n",
              "    fill: var(--button-hover-fill-color);\n",
              "  }\n",
              "\n",
              "  .colab-df-quickchart-complete:disabled,\n",
              "  .colab-df-quickchart-complete:disabled:hover {\n",
              "    background-color: var(--disabled-bg-color);\n",
              "    fill: var(--disabled-fill-color);\n",
              "    box-shadow: none;\n",
              "  }\n",
              "\n",
              "  .colab-df-spinner {\n",
              "    border: 2px solid var(--fill-color);\n",
              "    border-color: transparent;\n",
              "    border-bottom-color: var(--fill-color);\n",
              "    animation:\n",
              "      spin 1s steps(1) infinite;\n",
              "  }\n",
              "\n",
              "  @keyframes spin {\n",
              "    0% {\n",
              "      border-color: transparent;\n",
              "      border-bottom-color: var(--fill-color);\n",
              "      border-left-color: var(--fill-color);\n",
              "    }\n",
              "    20% {\n",
              "      border-color: transparent;\n",
              "      border-left-color: var(--fill-color);\n",
              "      border-top-color: var(--fill-color);\n",
              "    }\n",
              "    30% {\n",
              "      border-color: transparent;\n",
              "      border-left-color: var(--fill-color);\n",
              "      border-top-color: var(--fill-color);\n",
              "      border-right-color: var(--fill-color);\n",
              "    }\n",
              "    40% {\n",
              "      border-color: transparent;\n",
              "      border-right-color: var(--fill-color);\n",
              "      border-top-color: var(--fill-color);\n",
              "    }\n",
              "    60% {\n",
              "      border-color: transparent;\n",
              "      border-right-color: var(--fill-color);\n",
              "    }\n",
              "    80% {\n",
              "      border-color: transparent;\n",
              "      border-right-color: var(--fill-color);\n",
              "      border-bottom-color: var(--fill-color);\n",
              "    }\n",
              "    90% {\n",
              "      border-color: transparent;\n",
              "      border-bottom-color: var(--fill-color);\n",
              "    }\n",
              "  }\n",
              "</style>\n",
              "\n",
              "  <script>\n",
              "    async function quickchart(key) {\n",
              "      const quickchartButtonEl =\n",
              "        document.querySelector('#' + key + ' button');\n",
              "      quickchartButtonEl.disabled = true;  // To prevent multiple clicks.\n",
              "      quickchartButtonEl.classList.add('colab-df-spinner');\n",
              "      try {\n",
              "        const charts = await google.colab.kernel.invokeFunction(\n",
              "            'suggestCharts', [key], {});\n",
              "      } catch (error) {\n",
              "        console.error('Error during call to suggestCharts:', error);\n",
              "      }\n",
              "      quickchartButtonEl.classList.remove('colab-df-spinner');\n",
              "      quickchartButtonEl.classList.add('colab-df-quickchart-complete');\n",
              "    }\n",
              "    (() => {\n",
              "      let quickchartButtonEl =\n",
              "        document.querySelector('#df-7582286b-97f0-4dd1-a6a7-b17d6bb4f8f4 button');\n",
              "      quickchartButtonEl.style.display =\n",
              "        google.colab.kernel.accessAllowed ? 'block' : 'none';\n",
              "    })();\n",
              "  </script>\n",
              "</div>\n",
              "\n",
              "    </div>\n",
              "  </div>\n"
            ],
            "application/vnd.google.colaboratory.intrinsic+json": {
              "type": "dataframe",
              "variable_name": "y_pred",
              "summary": "{\n  \"name\": \"y_pred\",\n  \"rows\": 1009,\n  \"fields\": [\n    {\n      \"column\": \"lr\",\n      \"properties\": {\n        \"dtype\": \"number\",\n        \"std\": 1,\n        \"min\": 0,\n        \"max\": 5,\n        \"num_unique_values\": 6,\n        \"samples\": [\n          2,\n          5,\n          4\n        ],\n        \"semantic_type\": \"\",\n        \"description\": \"\"\n      }\n    },\n    {\n      \"column\": \"l1\",\n      \"properties\": {\n        \"dtype\": \"number\",\n        \"std\": 1,\n        \"min\": 0,\n        \"max\": 5,\n        \"num_unique_values\": 6,\n        \"samples\": [\n          1,\n          5,\n          2\n        ],\n        \"semantic_type\": \"\",\n        \"description\": \"\"\n      }\n    },\n    {\n      \"column\": \"l2\",\n      \"properties\": {\n        \"dtype\": \"number\",\n        \"std\": 1,\n        \"min\": 0,\n        \"max\": 5,\n        \"num_unique_values\": 5,\n        \"samples\": [\n          3,\n          5,\n          0\n        ],\n        \"semantic_type\": \"\",\n        \"description\": \"\"\n      }\n    }\n  ]\n}"
            }
          },
          "metadata": {},
          "execution_count": 43
        }
      ],
      "source": [
        "# Predict the class and the probability for each\n",
        "\n",
        "y_pred = list()\n",
        "y_prob = list()\n",
        "\n",
        "coeff_labels = ['lr', 'l1', 'l2']\n",
        "coeff_models = [lr, lr_l1, lr_l2]\n",
        "\n",
        "for lab,mod in zip(coeff_labels, coeff_models):\n",
        "    y_pred.append(pd.Series(mod.predict(X_test), name=lab))\n",
        "    y_prob.append(pd.Series(mod.predict_proba(X_test).max(axis=1), name=lab))\n",
        "\n",
        "y_pred = pd.concat(y_pred, axis=1)\n",
        "y_prob = pd.concat(y_prob, axis=1)\n",
        "\n",
        "y_pred.head()\n"
      ]
    },
    {
      "cell_type": "code",
      "execution_count": 44,
      "metadata": {
        "ExecuteTime": {
          "end_time": "2021-09-17T03:12:49.042661Z",
          "start_time": "2021-09-17T03:12:49.028663Z"
        },
        "colab": {
          "base_uri": "https://localhost:8080/",
          "height": 206
        },
        "id": "IWMpYvViMhdp",
        "outputId": "d9aca526-d51d-43cd-a764-edabab1317c6"
      },
      "outputs": [
        {
          "output_type": "execute_result",
          "data": {
            "text/plain": [
              "         lr        l1        l2\n",
              "0  0.472351  0.560892  0.294842\n",
              "1  0.441029  0.866418  0.223272\n",
              "2  0.809451  1.000000  0.379045\n",
              "3  0.543413  0.935549  0.326442\n",
              "4  0.446029  0.910900  0.282158"
            ],
            "text/html": [
              "\n",
              "  <div id=\"df-bc35e70f-36f4-43ec-8290-7c8f72a76130\" class=\"colab-df-container\">\n",
              "    <div>\n",
              "<style scoped>\n",
              "    .dataframe tbody tr th:only-of-type {\n",
              "        vertical-align: middle;\n",
              "    }\n",
              "\n",
              "    .dataframe tbody tr th {\n",
              "        vertical-align: top;\n",
              "    }\n",
              "\n",
              "    .dataframe thead th {\n",
              "        text-align: right;\n",
              "    }\n",
              "</style>\n",
              "<table border=\"1\" class=\"dataframe\">\n",
              "  <thead>\n",
              "    <tr style=\"text-align: right;\">\n",
              "      <th></th>\n",
              "      <th>lr</th>\n",
              "      <th>l1</th>\n",
              "      <th>l2</th>\n",
              "    </tr>\n",
              "  </thead>\n",
              "  <tbody>\n",
              "    <tr>\n",
              "      <th>0</th>\n",
              "      <td>0.472351</td>\n",
              "      <td>0.560892</td>\n",
              "      <td>0.294842</td>\n",
              "    </tr>\n",
              "    <tr>\n",
              "      <th>1</th>\n",
              "      <td>0.441029</td>\n",
              "      <td>0.866418</td>\n",
              "      <td>0.223272</td>\n",
              "    </tr>\n",
              "    <tr>\n",
              "      <th>2</th>\n",
              "      <td>0.809451</td>\n",
              "      <td>1.000000</td>\n",
              "      <td>0.379045</td>\n",
              "    </tr>\n",
              "    <tr>\n",
              "      <th>3</th>\n",
              "      <td>0.543413</td>\n",
              "      <td>0.935549</td>\n",
              "      <td>0.326442</td>\n",
              "    </tr>\n",
              "    <tr>\n",
              "      <th>4</th>\n",
              "      <td>0.446029</td>\n",
              "      <td>0.910900</td>\n",
              "      <td>0.282158</td>\n",
              "    </tr>\n",
              "  </tbody>\n",
              "</table>\n",
              "</div>\n",
              "    <div class=\"colab-df-buttons\">\n",
              "\n",
              "  <div class=\"colab-df-container\">\n",
              "    <button class=\"colab-df-convert\" onclick=\"convertToInteractive('df-bc35e70f-36f4-43ec-8290-7c8f72a76130')\"\n",
              "            title=\"Convert this dataframe to an interactive table.\"\n",
              "            style=\"display:none;\">\n",
              "\n",
              "  <svg xmlns=\"http://www.w3.org/2000/svg\" height=\"24px\" viewBox=\"0 -960 960 960\">\n",
              "    <path d=\"M120-120v-720h720v720H120Zm60-500h600v-160H180v160Zm220 220h160v-160H400v160Zm0 220h160v-160H400v160ZM180-400h160v-160H180v160Zm440 0h160v-160H620v160ZM180-180h160v-160H180v160Zm440 0h160v-160H620v160Z\"/>\n",
              "  </svg>\n",
              "    </button>\n",
              "\n",
              "  <style>\n",
              "    .colab-df-container {\n",
              "      display:flex;\n",
              "      gap: 12px;\n",
              "    }\n",
              "\n",
              "    .colab-df-convert {\n",
              "      background-color: #E8F0FE;\n",
              "      border: none;\n",
              "      border-radius: 50%;\n",
              "      cursor: pointer;\n",
              "      display: none;\n",
              "      fill: #1967D2;\n",
              "      height: 32px;\n",
              "      padding: 0 0 0 0;\n",
              "      width: 32px;\n",
              "    }\n",
              "\n",
              "    .colab-df-convert:hover {\n",
              "      background-color: #E2EBFA;\n",
              "      box-shadow: 0px 1px 2px rgba(60, 64, 67, 0.3), 0px 1px 3px 1px rgba(60, 64, 67, 0.15);\n",
              "      fill: #174EA6;\n",
              "    }\n",
              "\n",
              "    .colab-df-buttons div {\n",
              "      margin-bottom: 4px;\n",
              "    }\n",
              "\n",
              "    [theme=dark] .colab-df-convert {\n",
              "      background-color: #3B4455;\n",
              "      fill: #D2E3FC;\n",
              "    }\n",
              "\n",
              "    [theme=dark] .colab-df-convert:hover {\n",
              "      background-color: #434B5C;\n",
              "      box-shadow: 0px 1px 3px 1px rgba(0, 0, 0, 0.15);\n",
              "      filter: drop-shadow(0px 1px 2px rgba(0, 0, 0, 0.3));\n",
              "      fill: #FFFFFF;\n",
              "    }\n",
              "  </style>\n",
              "\n",
              "    <script>\n",
              "      const buttonEl =\n",
              "        document.querySelector('#df-bc35e70f-36f4-43ec-8290-7c8f72a76130 button.colab-df-convert');\n",
              "      buttonEl.style.display =\n",
              "        google.colab.kernel.accessAllowed ? 'block' : 'none';\n",
              "\n",
              "      async function convertToInteractive(key) {\n",
              "        const element = document.querySelector('#df-bc35e70f-36f4-43ec-8290-7c8f72a76130');\n",
              "        const dataTable =\n",
              "          await google.colab.kernel.invokeFunction('convertToInteractive',\n",
              "                                                    [key], {});\n",
              "        if (!dataTable) return;\n",
              "\n",
              "        const docLinkHtml = 'Like what you see? Visit the ' +\n",
              "          '<a target=\"_blank\" href=https://colab.research.google.com/notebooks/data_table.ipynb>data table notebook</a>'\n",
              "          + ' to learn more about interactive tables.';\n",
              "        element.innerHTML = '';\n",
              "        dataTable['output_type'] = 'display_data';\n",
              "        await google.colab.output.renderOutput(dataTable, element);\n",
              "        const docLink = document.createElement('div');\n",
              "        docLink.innerHTML = docLinkHtml;\n",
              "        element.appendChild(docLink);\n",
              "      }\n",
              "    </script>\n",
              "  </div>\n",
              "\n",
              "\n",
              "<div id=\"df-ebe4e59d-1df4-4e3f-8f04-b500eed0b230\">\n",
              "  <button class=\"colab-df-quickchart\" onclick=\"quickchart('df-ebe4e59d-1df4-4e3f-8f04-b500eed0b230')\"\n",
              "            title=\"Suggest charts\"\n",
              "            style=\"display:none;\">\n",
              "\n",
              "<svg xmlns=\"http://www.w3.org/2000/svg\" height=\"24px\"viewBox=\"0 0 24 24\"\n",
              "     width=\"24px\">\n",
              "    <g>\n",
              "        <path d=\"M19 3H5c-1.1 0-2 .9-2 2v14c0 1.1.9 2 2 2h14c1.1 0 2-.9 2-2V5c0-1.1-.9-2-2-2zM9 17H7v-7h2v7zm4 0h-2V7h2v10zm4 0h-2v-4h2v4z\"/>\n",
              "    </g>\n",
              "</svg>\n",
              "  </button>\n",
              "\n",
              "<style>\n",
              "  .colab-df-quickchart {\n",
              "      --bg-color: #E8F0FE;\n",
              "      --fill-color: #1967D2;\n",
              "      --hover-bg-color: #E2EBFA;\n",
              "      --hover-fill-color: #174EA6;\n",
              "      --disabled-fill-color: #AAA;\n",
              "      --disabled-bg-color: #DDD;\n",
              "  }\n",
              "\n",
              "  [theme=dark] .colab-df-quickchart {\n",
              "      --bg-color: #3B4455;\n",
              "      --fill-color: #D2E3FC;\n",
              "      --hover-bg-color: #434B5C;\n",
              "      --hover-fill-color: #FFFFFF;\n",
              "      --disabled-bg-color: #3B4455;\n",
              "      --disabled-fill-color: #666;\n",
              "  }\n",
              "\n",
              "  .colab-df-quickchart {\n",
              "    background-color: var(--bg-color);\n",
              "    border: none;\n",
              "    border-radius: 50%;\n",
              "    cursor: pointer;\n",
              "    display: none;\n",
              "    fill: var(--fill-color);\n",
              "    height: 32px;\n",
              "    padding: 0;\n",
              "    width: 32px;\n",
              "  }\n",
              "\n",
              "  .colab-df-quickchart:hover {\n",
              "    background-color: var(--hover-bg-color);\n",
              "    box-shadow: 0 1px 2px rgba(60, 64, 67, 0.3), 0 1px 3px 1px rgba(60, 64, 67, 0.15);\n",
              "    fill: var(--button-hover-fill-color);\n",
              "  }\n",
              "\n",
              "  .colab-df-quickchart-complete:disabled,\n",
              "  .colab-df-quickchart-complete:disabled:hover {\n",
              "    background-color: var(--disabled-bg-color);\n",
              "    fill: var(--disabled-fill-color);\n",
              "    box-shadow: none;\n",
              "  }\n",
              "\n",
              "  .colab-df-spinner {\n",
              "    border: 2px solid var(--fill-color);\n",
              "    border-color: transparent;\n",
              "    border-bottom-color: var(--fill-color);\n",
              "    animation:\n",
              "      spin 1s steps(1) infinite;\n",
              "  }\n",
              "\n",
              "  @keyframes spin {\n",
              "    0% {\n",
              "      border-color: transparent;\n",
              "      border-bottom-color: var(--fill-color);\n",
              "      border-left-color: var(--fill-color);\n",
              "    }\n",
              "    20% {\n",
              "      border-color: transparent;\n",
              "      border-left-color: var(--fill-color);\n",
              "      border-top-color: var(--fill-color);\n",
              "    }\n",
              "    30% {\n",
              "      border-color: transparent;\n",
              "      border-left-color: var(--fill-color);\n",
              "      border-top-color: var(--fill-color);\n",
              "      border-right-color: var(--fill-color);\n",
              "    }\n",
              "    40% {\n",
              "      border-color: transparent;\n",
              "      border-right-color: var(--fill-color);\n",
              "      border-top-color: var(--fill-color);\n",
              "    }\n",
              "    60% {\n",
              "      border-color: transparent;\n",
              "      border-right-color: var(--fill-color);\n",
              "    }\n",
              "    80% {\n",
              "      border-color: transparent;\n",
              "      border-right-color: var(--fill-color);\n",
              "      border-bottom-color: var(--fill-color);\n",
              "    }\n",
              "    90% {\n",
              "      border-color: transparent;\n",
              "      border-bottom-color: var(--fill-color);\n",
              "    }\n",
              "  }\n",
              "</style>\n",
              "\n",
              "  <script>\n",
              "    async function quickchart(key) {\n",
              "      const quickchartButtonEl =\n",
              "        document.querySelector('#' + key + ' button');\n",
              "      quickchartButtonEl.disabled = true;  // To prevent multiple clicks.\n",
              "      quickchartButtonEl.classList.add('colab-df-spinner');\n",
              "      try {\n",
              "        const charts = await google.colab.kernel.invokeFunction(\n",
              "            'suggestCharts', [key], {});\n",
              "      } catch (error) {\n",
              "        console.error('Error during call to suggestCharts:', error);\n",
              "      }\n",
              "      quickchartButtonEl.classList.remove('colab-df-spinner');\n",
              "      quickchartButtonEl.classList.add('colab-df-quickchart-complete');\n",
              "    }\n",
              "    (() => {\n",
              "      let quickchartButtonEl =\n",
              "        document.querySelector('#df-ebe4e59d-1df4-4e3f-8f04-b500eed0b230 button');\n",
              "      quickchartButtonEl.style.display =\n",
              "        google.colab.kernel.accessAllowed ? 'block' : 'none';\n",
              "    })();\n",
              "  </script>\n",
              "</div>\n",
              "\n",
              "    </div>\n",
              "  </div>\n"
            ],
            "application/vnd.google.colaboratory.intrinsic+json": {
              "type": "dataframe",
              "variable_name": "y_prob",
              "summary": "{\n  \"name\": \"y_prob\",\n  \"rows\": 1009,\n  \"fields\": [\n    {\n      \"column\": \"lr\",\n      \"properties\": {\n        \"dtype\": \"number\",\n        \"std\": 0.114564985411938,\n        \"min\": 0.27447501552888903,\n        \"max\": 0.8331795281445776,\n        \"num_unique_values\": 1009,\n        \"samples\": [\n          0.5100952552576604,\n          0.5844345760500163,\n          0.4318886760120054\n        ],\n        \"semantic_type\": \"\",\n        \"description\": \"\"\n      }\n    },\n    {\n      \"column\": \"l1\",\n      \"properties\": {\n        \"dtype\": \"number\",\n        \"std\": 0.0787219823290957,\n        \"min\": 0.46226446787064673,\n        \"max\": 0.9999999859163984,\n        \"num_unique_values\": 1009,\n        \"samples\": [\n          0.6568239377803464,\n          0.999999036598178,\n          0.9375462444410135\n        ],\n        \"semantic_type\": \"\",\n        \"description\": \"\"\n      }\n    },\n    {\n      \"column\": \"l2\",\n      \"properties\": {\n        \"dtype\": \"number\",\n        \"std\": 0.033703511499164056,\n        \"min\": 0.18767564225226113,\n        \"max\": 0.4341281982439557,\n        \"num_unique_values\": 1009,\n        \"samples\": [\n          0.29426574941592326,\n          0.31170337139419835,\n          0.30279008639608096\n        ],\n        \"semantic_type\": \"\",\n        \"description\": \"\"\n      }\n    }\n  ]\n}"
            }
          },
          "metadata": {},
          "execution_count": 44
        }
      ],
      "source": [
        "y_prob.head()"
      ]
    },
    {
      "cell_type": "markdown",
      "metadata": {
        "id": "0faJOt2jMhdp"
      },
      "source": [
        "## Question 7\n",
        "\n",
        "For each model, calculate the following error metrics:\n",
        "\n",
        "* accuracy\n",
        "* precision\n",
        "* recall\n",
        "* fscore\n",
        "* confusion matrix\n",
        "\n",
        "Decide how to combine the multi-class metrics into a single value for each model."
      ]
    },
    {
      "cell_type": "code",
      "execution_count": 45,
      "metadata": {
        "ExecuteTime": {
          "end_time": "2021-09-17T03:12:49.106660Z",
          "start_time": "2021-09-17T03:12:49.046661Z"
        },
        "colab": {
          "base_uri": "https://localhost:8080/"
        },
        "id": "PcAPvSedMhdq",
        "outputId": "9265b618-46c6-4f27-93bd-47a3f60c873a"
      },
      "outputs": [
        {
          "output_type": "stream",
          "name": "stderr",
          "text": [
            "/usr/local/lib/python3.10/dist-packages/sklearn/metrics/_classification.py:1344: UndefinedMetricWarning: Precision and F-score are ill-defined and being set to 0.0 in labels with no predicted samples. Use `zero_division` parameter to control this behavior.\n",
            "  _warn_prf(average, modifier, msg_start, len(result))\n"
          ]
        }
      ],
      "source": [
        "from sklearn.metrics import precision_recall_fscore_support as score\n",
        "from sklearn.metrics import confusion_matrix, accuracy_score, roc_auc_score\n",
        "from sklearn.preprocessing import label_binarize\n",
        "\n",
        "metrics = list()\n",
        "cm = dict()\n",
        "\n",
        "for lab in coeff_labels:\n",
        "\n",
        "    # Preciision, recall, f-score from the multi-class support function\n",
        "    precision, recall, fscore, _ = score(y_test, y_pred[lab], average='weighted')\n",
        "\n",
        "    # The usual way to calculate accuracy\n",
        "    accuracy = accuracy_score(y_test, y_pred[lab])\n",
        "\n",
        "    # ROC-AUC scores can be calculated by binarizing the data\n",
        "    auc = roc_auc_score(label_binarize(y_test, classes=[0,1,2,3,4,5]),\n",
        "              label_binarize(y_pred[lab], classes=[0,1,2,3,4,5]),\n",
        "              average='weighted')\n",
        "\n",
        "    # Last, the confusion matrix\n",
        "    cm[lab] = confusion_matrix(y_test, y_pred[lab])\n",
        "\n",
        "    metrics.append(pd.Series({'precision':precision, 'recall':recall,\n",
        "                              'fscore':fscore, 'accuracy':accuracy,\n",
        "                              'auc':auc},\n",
        "                             name=lab))\n",
        "\n",
        "metrics = pd.concat(metrics, axis=1)\n"
      ]
    },
    {
      "cell_type": "code",
      "execution_count": 46,
      "metadata": {
        "ExecuteTime": {
          "end_time": "2021-09-17T03:12:49.122663Z",
          "start_time": "2021-09-17T03:12:49.108662Z"
        },
        "colab": {
          "base_uri": "https://localhost:8080/",
          "height": 206
        },
        "id": "oAWTpm8lMhdq",
        "outputId": "b43d5347-6b13-453a-f021-236f5a866de3"
      },
      "outputs": [
        {
          "output_type": "execute_result",
          "data": {
            "text/plain": [
              "                 lr        l1        l2\n",
              "precision  0.893690  0.980209  0.650989\n",
              "recall     0.888008  0.980178  0.657086\n",
              "fscore     0.886388  0.980183  0.584124\n",
              "accuracy   0.888008  0.980178  0.657086\n",
              "auc        0.931971  0.988006  0.790434"
            ],
            "text/html": [
              "\n",
              "  <div id=\"df-4f763b5d-82f9-4b9a-9553-1853215d2578\" class=\"colab-df-container\">\n",
              "    <div>\n",
              "<style scoped>\n",
              "    .dataframe tbody tr th:only-of-type {\n",
              "        vertical-align: middle;\n",
              "    }\n",
              "\n",
              "    .dataframe tbody tr th {\n",
              "        vertical-align: top;\n",
              "    }\n",
              "\n",
              "    .dataframe thead th {\n",
              "        text-align: right;\n",
              "    }\n",
              "</style>\n",
              "<table border=\"1\" class=\"dataframe\">\n",
              "  <thead>\n",
              "    <tr style=\"text-align: right;\">\n",
              "      <th></th>\n",
              "      <th>lr</th>\n",
              "      <th>l1</th>\n",
              "      <th>l2</th>\n",
              "    </tr>\n",
              "  </thead>\n",
              "  <tbody>\n",
              "    <tr>\n",
              "      <th>precision</th>\n",
              "      <td>0.893690</td>\n",
              "      <td>0.980209</td>\n",
              "      <td>0.650989</td>\n",
              "    </tr>\n",
              "    <tr>\n",
              "      <th>recall</th>\n",
              "      <td>0.888008</td>\n",
              "      <td>0.980178</td>\n",
              "      <td>0.657086</td>\n",
              "    </tr>\n",
              "    <tr>\n",
              "      <th>fscore</th>\n",
              "      <td>0.886388</td>\n",
              "      <td>0.980183</td>\n",
              "      <td>0.584124</td>\n",
              "    </tr>\n",
              "    <tr>\n",
              "      <th>accuracy</th>\n",
              "      <td>0.888008</td>\n",
              "      <td>0.980178</td>\n",
              "      <td>0.657086</td>\n",
              "    </tr>\n",
              "    <tr>\n",
              "      <th>auc</th>\n",
              "      <td>0.931971</td>\n",
              "      <td>0.988006</td>\n",
              "      <td>0.790434</td>\n",
              "    </tr>\n",
              "  </tbody>\n",
              "</table>\n",
              "</div>\n",
              "    <div class=\"colab-df-buttons\">\n",
              "\n",
              "  <div class=\"colab-df-container\">\n",
              "    <button class=\"colab-df-convert\" onclick=\"convertToInteractive('df-4f763b5d-82f9-4b9a-9553-1853215d2578')\"\n",
              "            title=\"Convert this dataframe to an interactive table.\"\n",
              "            style=\"display:none;\">\n",
              "\n",
              "  <svg xmlns=\"http://www.w3.org/2000/svg\" height=\"24px\" viewBox=\"0 -960 960 960\">\n",
              "    <path d=\"M120-120v-720h720v720H120Zm60-500h600v-160H180v160Zm220 220h160v-160H400v160Zm0 220h160v-160H400v160ZM180-400h160v-160H180v160Zm440 0h160v-160H620v160ZM180-180h160v-160H180v160Zm440 0h160v-160H620v160Z\"/>\n",
              "  </svg>\n",
              "    </button>\n",
              "\n",
              "  <style>\n",
              "    .colab-df-container {\n",
              "      display:flex;\n",
              "      gap: 12px;\n",
              "    }\n",
              "\n",
              "    .colab-df-convert {\n",
              "      background-color: #E8F0FE;\n",
              "      border: none;\n",
              "      border-radius: 50%;\n",
              "      cursor: pointer;\n",
              "      display: none;\n",
              "      fill: #1967D2;\n",
              "      height: 32px;\n",
              "      padding: 0 0 0 0;\n",
              "      width: 32px;\n",
              "    }\n",
              "\n",
              "    .colab-df-convert:hover {\n",
              "      background-color: #E2EBFA;\n",
              "      box-shadow: 0px 1px 2px rgba(60, 64, 67, 0.3), 0px 1px 3px 1px rgba(60, 64, 67, 0.15);\n",
              "      fill: #174EA6;\n",
              "    }\n",
              "\n",
              "    .colab-df-buttons div {\n",
              "      margin-bottom: 4px;\n",
              "    }\n",
              "\n",
              "    [theme=dark] .colab-df-convert {\n",
              "      background-color: #3B4455;\n",
              "      fill: #D2E3FC;\n",
              "    }\n",
              "\n",
              "    [theme=dark] .colab-df-convert:hover {\n",
              "      background-color: #434B5C;\n",
              "      box-shadow: 0px 1px 3px 1px rgba(0, 0, 0, 0.15);\n",
              "      filter: drop-shadow(0px 1px 2px rgba(0, 0, 0, 0.3));\n",
              "      fill: #FFFFFF;\n",
              "    }\n",
              "  </style>\n",
              "\n",
              "    <script>\n",
              "      const buttonEl =\n",
              "        document.querySelector('#df-4f763b5d-82f9-4b9a-9553-1853215d2578 button.colab-df-convert');\n",
              "      buttonEl.style.display =\n",
              "        google.colab.kernel.accessAllowed ? 'block' : 'none';\n",
              "\n",
              "      async function convertToInteractive(key) {\n",
              "        const element = document.querySelector('#df-4f763b5d-82f9-4b9a-9553-1853215d2578');\n",
              "        const dataTable =\n",
              "          await google.colab.kernel.invokeFunction('convertToInteractive',\n",
              "                                                    [key], {});\n",
              "        if (!dataTable) return;\n",
              "\n",
              "        const docLinkHtml = 'Like what you see? Visit the ' +\n",
              "          '<a target=\"_blank\" href=https://colab.research.google.com/notebooks/data_table.ipynb>data table notebook</a>'\n",
              "          + ' to learn more about interactive tables.';\n",
              "        element.innerHTML = '';\n",
              "        dataTable['output_type'] = 'display_data';\n",
              "        await google.colab.output.renderOutput(dataTable, element);\n",
              "        const docLink = document.createElement('div');\n",
              "        docLink.innerHTML = docLinkHtml;\n",
              "        element.appendChild(docLink);\n",
              "      }\n",
              "    </script>\n",
              "  </div>\n",
              "\n",
              "\n",
              "<div id=\"df-6e072c03-6e74-47b1-b4dd-2d8c8e1a1b2f\">\n",
              "  <button class=\"colab-df-quickchart\" onclick=\"quickchart('df-6e072c03-6e74-47b1-b4dd-2d8c8e1a1b2f')\"\n",
              "            title=\"Suggest charts\"\n",
              "            style=\"display:none;\">\n",
              "\n",
              "<svg xmlns=\"http://www.w3.org/2000/svg\" height=\"24px\"viewBox=\"0 0 24 24\"\n",
              "     width=\"24px\">\n",
              "    <g>\n",
              "        <path d=\"M19 3H5c-1.1 0-2 .9-2 2v14c0 1.1.9 2 2 2h14c1.1 0 2-.9 2-2V5c0-1.1-.9-2-2-2zM9 17H7v-7h2v7zm4 0h-2V7h2v10zm4 0h-2v-4h2v4z\"/>\n",
              "    </g>\n",
              "</svg>\n",
              "  </button>\n",
              "\n",
              "<style>\n",
              "  .colab-df-quickchart {\n",
              "      --bg-color: #E8F0FE;\n",
              "      --fill-color: #1967D2;\n",
              "      --hover-bg-color: #E2EBFA;\n",
              "      --hover-fill-color: #174EA6;\n",
              "      --disabled-fill-color: #AAA;\n",
              "      --disabled-bg-color: #DDD;\n",
              "  }\n",
              "\n",
              "  [theme=dark] .colab-df-quickchart {\n",
              "      --bg-color: #3B4455;\n",
              "      --fill-color: #D2E3FC;\n",
              "      --hover-bg-color: #434B5C;\n",
              "      --hover-fill-color: #FFFFFF;\n",
              "      --disabled-bg-color: #3B4455;\n",
              "      --disabled-fill-color: #666;\n",
              "  }\n",
              "\n",
              "  .colab-df-quickchart {\n",
              "    background-color: var(--bg-color);\n",
              "    border: none;\n",
              "    border-radius: 50%;\n",
              "    cursor: pointer;\n",
              "    display: none;\n",
              "    fill: var(--fill-color);\n",
              "    height: 32px;\n",
              "    padding: 0;\n",
              "    width: 32px;\n",
              "  }\n",
              "\n",
              "  .colab-df-quickchart:hover {\n",
              "    background-color: var(--hover-bg-color);\n",
              "    box-shadow: 0 1px 2px rgba(60, 64, 67, 0.3), 0 1px 3px 1px rgba(60, 64, 67, 0.15);\n",
              "    fill: var(--button-hover-fill-color);\n",
              "  }\n",
              "\n",
              "  .colab-df-quickchart-complete:disabled,\n",
              "  .colab-df-quickchart-complete:disabled:hover {\n",
              "    background-color: var(--disabled-bg-color);\n",
              "    fill: var(--disabled-fill-color);\n",
              "    box-shadow: none;\n",
              "  }\n",
              "\n",
              "  .colab-df-spinner {\n",
              "    border: 2px solid var(--fill-color);\n",
              "    border-color: transparent;\n",
              "    border-bottom-color: var(--fill-color);\n",
              "    animation:\n",
              "      spin 1s steps(1) infinite;\n",
              "  }\n",
              "\n",
              "  @keyframes spin {\n",
              "    0% {\n",
              "      border-color: transparent;\n",
              "      border-bottom-color: var(--fill-color);\n",
              "      border-left-color: var(--fill-color);\n",
              "    }\n",
              "    20% {\n",
              "      border-color: transparent;\n",
              "      border-left-color: var(--fill-color);\n",
              "      border-top-color: var(--fill-color);\n",
              "    }\n",
              "    30% {\n",
              "      border-color: transparent;\n",
              "      border-left-color: var(--fill-color);\n",
              "      border-top-color: var(--fill-color);\n",
              "      border-right-color: var(--fill-color);\n",
              "    }\n",
              "    40% {\n",
              "      border-color: transparent;\n",
              "      border-right-color: var(--fill-color);\n",
              "      border-top-color: var(--fill-color);\n",
              "    }\n",
              "    60% {\n",
              "      border-color: transparent;\n",
              "      border-right-color: var(--fill-color);\n",
              "    }\n",
              "    80% {\n",
              "      border-color: transparent;\n",
              "      border-right-color: var(--fill-color);\n",
              "      border-bottom-color: var(--fill-color);\n",
              "    }\n",
              "    90% {\n",
              "      border-color: transparent;\n",
              "      border-bottom-color: var(--fill-color);\n",
              "    }\n",
              "  }\n",
              "</style>\n",
              "\n",
              "  <script>\n",
              "    async function quickchart(key) {\n",
              "      const quickchartButtonEl =\n",
              "        document.querySelector('#' + key + ' button');\n",
              "      quickchartButtonEl.disabled = true;  // To prevent multiple clicks.\n",
              "      quickchartButtonEl.classList.add('colab-df-spinner');\n",
              "      try {\n",
              "        const charts = await google.colab.kernel.invokeFunction(\n",
              "            'suggestCharts', [key], {});\n",
              "      } catch (error) {\n",
              "        console.error('Error during call to suggestCharts:', error);\n",
              "      }\n",
              "      quickchartButtonEl.classList.remove('colab-df-spinner');\n",
              "      quickchartButtonEl.classList.add('colab-df-quickchart-complete');\n",
              "    }\n",
              "    (() => {\n",
              "      let quickchartButtonEl =\n",
              "        document.querySelector('#df-6e072c03-6e74-47b1-b4dd-2d8c8e1a1b2f button');\n",
              "      quickchartButtonEl.style.display =\n",
              "        google.colab.kernel.accessAllowed ? 'block' : 'none';\n",
              "    })();\n",
              "  </script>\n",
              "</div>\n",
              "\n",
              "  <div id=\"id_c45fcdbe-315e-4f10-9d9d-15cf72696186\">\n",
              "    <style>\n",
              "      .colab-df-generate {\n",
              "        background-color: #E8F0FE;\n",
              "        border: none;\n",
              "        border-radius: 50%;\n",
              "        cursor: pointer;\n",
              "        display: none;\n",
              "        fill: #1967D2;\n",
              "        height: 32px;\n",
              "        padding: 0 0 0 0;\n",
              "        width: 32px;\n",
              "      }\n",
              "\n",
              "      .colab-df-generate:hover {\n",
              "        background-color: #E2EBFA;\n",
              "        box-shadow: 0px 1px 2px rgba(60, 64, 67, 0.3), 0px 1px 3px 1px rgba(60, 64, 67, 0.15);\n",
              "        fill: #174EA6;\n",
              "      }\n",
              "\n",
              "      [theme=dark] .colab-df-generate {\n",
              "        background-color: #3B4455;\n",
              "        fill: #D2E3FC;\n",
              "      }\n",
              "\n",
              "      [theme=dark] .colab-df-generate:hover {\n",
              "        background-color: #434B5C;\n",
              "        box-shadow: 0px 1px 3px 1px rgba(0, 0, 0, 0.15);\n",
              "        filter: drop-shadow(0px 1px 2px rgba(0, 0, 0, 0.3));\n",
              "        fill: #FFFFFF;\n",
              "      }\n",
              "    </style>\n",
              "    <button class=\"colab-df-generate\" onclick=\"generateWithVariable('metrics')\"\n",
              "            title=\"Generate code using this dataframe.\"\n",
              "            style=\"display:none;\">\n",
              "\n",
              "  <svg xmlns=\"http://www.w3.org/2000/svg\" height=\"24px\"viewBox=\"0 0 24 24\"\n",
              "       width=\"24px\">\n",
              "    <path d=\"M7,19H8.4L18.45,9,17,7.55,7,17.6ZM5,21V16.75L18.45,3.32a2,2,0,0,1,2.83,0l1.4,1.43a1.91,1.91,0,0,1,.58,1.4,1.91,1.91,0,0,1-.58,1.4L9.25,21ZM18.45,9,17,7.55Zm-12,3A5.31,5.31,0,0,0,4.9,8.1,5.31,5.31,0,0,0,1,6.5,5.31,5.31,0,0,0,4.9,4.9,5.31,5.31,0,0,0,6.5,1,5.31,5.31,0,0,0,8.1,4.9,5.31,5.31,0,0,0,12,6.5,5.46,5.46,0,0,0,6.5,12Z\"/>\n",
              "  </svg>\n",
              "    </button>\n",
              "    <script>\n",
              "      (() => {\n",
              "      const buttonEl =\n",
              "        document.querySelector('#id_c45fcdbe-315e-4f10-9d9d-15cf72696186 button.colab-df-generate');\n",
              "      buttonEl.style.display =\n",
              "        google.colab.kernel.accessAllowed ? 'block' : 'none';\n",
              "\n",
              "      buttonEl.onclick = () => {\n",
              "        google.colab.notebook.generateWithVariable('metrics');\n",
              "      }\n",
              "      })();\n",
              "    </script>\n",
              "  </div>\n",
              "\n",
              "    </div>\n",
              "  </div>\n"
            ],
            "application/vnd.google.colaboratory.intrinsic+json": {
              "type": "dataframe",
              "variable_name": "metrics",
              "summary": "{\n  \"name\": \"metrics\",\n  \"rows\": 5,\n  \"fields\": [\n    {\n      \"column\": \"lr\",\n      \"properties\": {\n        \"dtype\": \"number\",\n        \"std\": 0.01940605960795032,\n        \"min\": 0.8863884759660656,\n        \"max\": 0.931971186240501,\n        \"num_unique_values\": 4,\n        \"samples\": [\n          0.88800792864222,\n          0.931971186240501,\n          0.8936898756125902\n        ],\n        \"semantic_type\": \"\",\n        \"description\": \"\"\n      }\n    },\n    {\n      \"column\": \"l1\",\n      \"properties\": {\n        \"dtype\": \"number\",\n        \"std\": 0.0034965824000094637,\n        \"min\": 0.9801783944499505,\n        \"max\": 0.9880056210139445,\n        \"num_unique_values\": 4,\n        \"samples\": [\n          0.9801783944499505,\n          0.9880056210139445,\n          0.980208632969083\n        ],\n        \"semantic_type\": \"\",\n        \"description\": \"\"\n      }\n    },\n    {\n      \"column\": \"l2\",\n      \"properties\": {\n        \"dtype\": \"number\",\n        \"std\": 0.07508797246076782,\n        \"min\": 0.5841236701445729,\n        \"max\": 0.7904336341624477,\n        \"num_unique_values\": 4,\n        \"samples\": [\n          0.6570862239841427,\n          0.7904336341624477,\n          0.650988951811686\n        ],\n        \"semantic_type\": \"\",\n        \"description\": \"\"\n      }\n    }\n  ]\n}"
            }
          },
          "metadata": {},
          "execution_count": 46
        }
      ],
      "source": [
        "#Run the metrics\n",
        "metrics"
      ]
    },
    {
      "cell_type": "markdown",
      "metadata": {
        "id": "2r2OwngdMhdr"
      },
      "source": [
        "## Question 8\n",
        "\n",
        "Display or plot the confusion matrix for each model."
      ]
    },
    {
      "cell_type": "code",
      "execution_count": 47,
      "metadata": {
        "ExecuteTime": {
          "end_time": "2021-09-17T03:12:51.030396Z",
          "start_time": "2021-09-17T03:12:49.124662Z"
        },
        "colab": {
          "base_uri": "https://localhost:8080/",
          "height": 576
        },
        "id": "Fy4mCpl2Mhdr",
        "outputId": "c2b840d6-b8f0-4335-d2db-24736b92e683"
      },
      "outputs": [
        {
          "output_type": "display_data",
          "data": {
            "text/plain": [
              "<Figure size 1200x1000 with 7 Axes>"
            ],
            "image/png": "[encoded data removed]"
          },
          "metadata": {}
        }
      ],
      "source": [
        "\n",
        "fig, axList = plt.subplots(nrows=2, ncols=2)\n",
        "axList = axList.flatten()\n",
        "fig.set_size_inches(12, 10)\n",
        "\n",
        "axList[-1].axis('off')\n",
        "\n",
        "for ax,lab in zip(axList[:-1], coeff_labels):\n",
        "    sns.heatmap(cm[lab], ax=ax, annot=True, fmt='d');\n",
        "    ax.set(title=lab);\n",
        "\n",
        "plt.tight_layout()\n"
      ]
    },
    {
      "cell_type": "markdown",
      "metadata": {
        "id": "K8o2eSZcMhdr"
      },
      "source": [
        "## Question 9\n",
        " Identify highly correlated columns and drop those columns before building models"
      ]
    },
    {
      "cell_type": "code",
      "execution_count": 48,
      "metadata": {
        "ExecuteTime": {
          "end_time": "2021-09-17T03:12:51.188590Z",
          "start_time": "2021-09-17T03:12:51.032396Z"
        },
        "id": "0stSr5WGMhdr"
      },
      "outputs": [],
      "source": [
        "from sklearn.feature_selection import SelectKBest\n",
        "from sklearn.feature_selection import chi2\n",
        "from sklearn.feature_selection import VarianceThreshold\n",
        "\n",
        "#threshold with .7\n",
        "\n",
        "sel = VarianceThreshold(threshold=(.7 * (1 - .7)))\n",
        "\n",
        "data2 = pd.concat([X_train,X_test])\n",
        "data_new = pd.DataFrame(sel.fit_transform(data2))\n",
        "\n",
        "\n",
        "data_y = pd.concat([y_train,y_test])\n",
        "\n",
        "from sklearn.model_selection import train_test_split\n",
        "\n",
        "X_new,X_test_new = train_test_split(data_new)\n",
        "Y_new,Y_test_new = train_test_split(data_y)"
      ]
    },
    {
      "cell_type": "markdown",
      "metadata": {
        "id": "E4TrUt7BMhdr"
      },
      "source": [
        " Repeat Model building with new training data after removing higly correlated columns"
      ]
    },
    {
      "cell_type": "code",
      "execution_count": 106,
      "metadata": {
        "ExecuteTime": {
          "end_time": "2021-09-17T03:12:51.204590Z",
          "start_time": "2021-09-17T03:12:51.190623Z"
        },
        "id": "vODzDrFCMhdr"
      },
      "outputs": [],
      "source": [
        "# Try standard, L1 and L2 Logistic regression\n",
        "data_path = ['/content/']\n",
        "filepath = os.sep.join(data_path + ['Orange_Telecom_Churn_Data.csv'])\n",
        "data = pd.read_csv(filepath, sep=',')"
      ]
    },
    {
      "cell_type": "code",
      "source": [
        "data.dtypes.value_counts()"
      ],
      "metadata": {
        "colab": {
          "base_uri": "https://localhost:8080/"
        },
        "id": "Lyw2zfXnUY3L",
        "outputId": "0e89443d-567b-4f1e-9671-bc16a45f4796"
      },
      "execution_count": 108,
      "outputs": [
        {
          "output_type": "execute_result",
          "data": {
            "text/plain": [
              "float64    11\n",
              "int64       9\n",
              "dtype: int64"
            ]
          },
          "metadata": {},
          "execution_count": 108
        }
      ]
    },
    {
      "cell_type": "code",
      "source": [
        "data.dtypes.tail()"
      ],
      "metadata": {
        "colab": {
          "base_uri": "https://localhost:8080/"
        },
        "id": "dCRUXtTWU-10",
        "outputId": "513187ce-6316-4301-f38b-a7b7dfc07932"
      },
      "execution_count": 109,
      "outputs": [
        {
          "output_type": "execute_result",
          "data": {
            "text/plain": [
              "total_intl_minutes               float64\n",
              "total_intl_calls                   int64\n",
              "total_intl_charge                float64\n",
              "number_customer_service_calls      int64\n",
              "churned                            int64\n",
              "dtype: object"
            ]
          },
          "metadata": {},
          "execution_count": 109
        }
      ]
    },
    {
      "cell_type": "code",
      "source": [
        "data.iloc[:, :-1].min().value_counts()"
      ],
      "metadata": {
        "colab": {
          "base_uri": "https://localhost:8080/"
        },
        "id": "RsjBXebBU-4P",
        "outputId": "d6da7db3-d1b1-4034-9b09-6f90895a8a6c"
      },
      "execution_count": 110,
      "outputs": [
        {
          "output_type": "execute_result",
          "data": {
            "text/plain": [
              "0.0      14\n",
              "1.0       1\n",
              "408.0     1\n",
              "dtype: int64"
            ]
          },
          "metadata": {},
          "execution_count": 110
        }
      ]
    },
    {
      "cell_type": "code",
      "source": [
        "data.iloc[:, :-1].max().value_counts()"
      ],
      "metadata": {
        "colab": {
          "base_uri": "https://localhost:8080/"
        },
        "id": "CGWA7ePlU-6Y",
        "outputId": "ee8b757f-50aa-4b73-aceb-34b191f0967b"
      },
      "execution_count": 111,
      "outputs": [
        {
          "output_type": "execute_result",
          "data": {
            "text/plain": [
              "20.00     2\n",
              "243.00    1\n",
              "510.00    1\n",
              "52.00     1\n",
              "351.50    1\n",
              "165.00    1\n",
              "59.76     1\n",
              "363.70    1\n",
              "170.00    1\n",
              "30.91     1\n",
              "395.00    1\n",
              "175.00    1\n",
              "17.77     1\n",
              "5.40      1\n",
              "9.00      1\n",
              "dtype: int64"
            ]
          },
          "metadata": {},
          "execution_count": 111
        }
      ]
    },
    {
      "cell_type": "code",
      "source": [
        "data.churned.value_counts()"
      ],
      "metadata": {
        "colab": {
          "base_uri": "https://localhost:8080/"
        },
        "id": "anAoNl5pU-93",
        "outputId": "d060c11a-ded3-4486-f27d-cb25e4253002"
      },
      "execution_count": 112,
      "outputs": [
        {
          "output_type": "execute_result",
          "data": {
            "text/plain": [
              "0    4293\n",
              "1     707\n",
              "Name: churned, dtype: int64"
            ]
          },
          "metadata": {},
          "execution_count": 112
        }
      ]
    },
    {
      "cell_type": "code",
      "source": [
        "from sklearn.preprocessing import LabelEncoder\n",
        "\n",
        "le = LabelEncoder()\n",
        "data['churned'] = le.fit_transform(data.churned)\n",
        "data['churned'].sample(5)"
      ],
      "metadata": {
        "colab": {
          "base_uri": "https://localhost:8080/"
        },
        "id": "3464kIyEVsR0",
        "outputId": "7545295b-ac23-4518-a273-2cbd4c866716"
      },
      "execution_count": 113,
      "outputs": [
        {
          "output_type": "execute_result",
          "data": {
            "text/plain": [
              "741     0\n",
              "4435    0\n",
              "4808    0\n",
              "1987    0\n",
              "3355    0\n",
              "Name: churned, dtype: int64"
            ]
          },
          "metadata": {},
          "execution_count": 113
        }
      ]
    },
    {
      "cell_type": "code",
      "source": [
        "# Calculate the correlation values\n",
        "feature_cols = data.columns[:-1]\n",
        "corr_values = data[feature_cols].corr()\n",
        "\n",
        "# Simplify by emptying all the data below the diagonal\n",
        "tril_index = np.tril_indices_from(corr_values)\n",
        "\n",
        "# Make the unused values NaNs\n",
        "for coord in zip(*tril_index):\n",
        "    corr_values.iloc[coord[0], coord[1]] = np.NaN\n",
        "\n",
        "# Stack the data and convert to a data frame\n",
        "corr_values = (corr_values.stack().to_frame().reset_index().rename(columns={'level_0':'feature1','level_1':'feature2',0:'correlation'}))\n",
        "\n",
        "# Get the absolute values for sorting\n",
        "corr_values['abs_correlation'] = corr_values.correlation.abs()"
      ],
      "metadata": {
        "id": "lB_trYxBV2Lz"
      },
      "execution_count": 114,
      "outputs": []
    },
    {
      "cell_type": "code",
      "source": [
        "sns.set_context('talk')\n",
        "sns.set_style('white')\n",
        "sns.set_palette('dark')\n",
        "\n",
        "ax = corr_values.abs_correlation.hist(bins=50)\n",
        "\n",
        "ax.set(xlabel='Absolute Correlation', ylabel='Frequency');"
      ],
      "metadata": {
        "colab": {
          "base_uri": "https://localhost:8080/",
          "height": 476
        },
        "id": "YA1jZo6dWGvP",
        "outputId": "57eefa14-f8d8-46fc-f299-723d33eae1b0"
      },
      "execution_count": 115,
      "outputs": [
        {
          "output_type": "display_data",
          "data": {
            "text/plain": [
              "<Figure size 640x480 with 1 Axes>"
            ],
            "image/png": "[encoded data removed]"
          },
          "metadata": {}
        }
      ]
    },
    {
      "cell_type": "code",
      "source": [
        "# The most highly correlated values\n",
        "corr_values.sort_values('correlation', ascending=False).query('abs_correlation>0.8')"
      ],
      "metadata": {
        "colab": {
          "base_uri": "https://localhost:8080/",
          "height": 175
        },
        "id": "PFt8eL1MWO7F",
        "outputId": "2c001bde-52e1-4cbe-de92-ed8b85951846"
      },
      "execution_count": 116,
      "outputs": [
        {
          "output_type": "execute_result",
          "data": {
            "text/plain": [
              "                feature1            feature2  correlation  abs_correlation\n",
              "43     total_day_minutes    total_day_charge     1.000000         1.000000\n",
              "76     total_eve_minutes    total_eve_charge     1.000000         1.000000\n",
              "100  total_night_minutes  total_night_charge     0.999999         0.999999\n",
              "115   total_intl_minutes   total_intl_charge     0.999993         0.999993"
            ],
            "text/html": [
              "\n",
              "  <div id=\"df-89436e23-4245-4db2-ab91-64a02d2594b8\" class=\"colab-df-container\">\n",
              "    <div>\n",
              "<style scoped>\n",
              "    .dataframe tbody tr th:only-of-type {\n",
              "        vertical-align: middle;\n",
              "    }\n",
              "\n",
              "    .dataframe tbody tr th {\n",
              "        vertical-align: top;\n",
              "    }\n",
              "\n",
              "    .dataframe thead th {\n",
              "        text-align: right;\n",
              "    }\n",
              "</style>\n",
              "<table border=\"1\" class=\"dataframe\">\n",
              "  <thead>\n",
              "    <tr style=\"text-align: right;\">\n",
              "      <th></th>\n",
              "      <th>feature1</th>\n",
              "      <th>feature2</th>\n",
              "      <th>correlation</th>\n",
              "      <th>abs_correlation</th>\n",
              "    </tr>\n",
              "  </thead>\n",
              "  <tbody>\n",
              "    <tr>\n",
              "      <th>43</th>\n",
              "      <td>total_day_minutes</td>\n",
              "      <td>total_day_charge</td>\n",
              "      <td>1.000000</td>\n",
              "      <td>1.000000</td>\n",
              "    </tr>\n",
              "    <tr>\n",
              "      <th>76</th>\n",
              "      <td>total_eve_minutes</td>\n",
              "      <td>total_eve_charge</td>\n",
              "      <td>1.000000</td>\n",
              "      <td>1.000000</td>\n",
              "    </tr>\n",
              "    <tr>\n",
              "      <th>100</th>\n",
              "      <td>total_night_minutes</td>\n",
              "      <td>total_night_charge</td>\n",
              "      <td>0.999999</td>\n",
              "      <td>0.999999</td>\n",
              "    </tr>\n",
              "    <tr>\n",
              "      <th>115</th>\n",
              "      <td>total_intl_minutes</td>\n",
              "      <td>total_intl_charge</td>\n",
              "      <td>0.999993</td>\n",
              "      <td>0.999993</td>\n",
              "    </tr>\n",
              "  </tbody>\n",
              "</table>\n",
              "</div>\n",
              "    <div class=\"colab-df-buttons\">\n",
              "\n",
              "  <div class=\"colab-df-container\">\n",
              "    <button class=\"colab-df-convert\" onclick=\"convertToInteractive('df-89436e23-4245-4db2-ab91-64a02d2594b8')\"\n",
              "            title=\"Convert this dataframe to an interactive table.\"\n",
              "            style=\"display:none;\">\n",
              "\n",
              "  <svg xmlns=\"http://www.w3.org/2000/svg\" height=\"24px\" viewBox=\"0 -960 960 960\">\n",
              "    <path d=\"M120-120v-720h720v720H120Zm60-500h600v-160H180v160Zm220 220h160v-160H400v160Zm0 220h160v-160H400v160ZM180-400h160v-160H180v160Zm440 0h160v-160H620v160ZM180-180h160v-160H180v160Zm440 0h160v-160H620v160Z\"/>\n",
              "  </svg>\n",
              "    </button>\n",
              "\n",
              "  <style>\n",
              "    .colab-df-container {\n",
              "      display:flex;\n",
              "      gap: 12px;\n",
              "    }\n",
              "\n",
              "    .colab-df-convert {\n",
              "      background-color: #E8F0FE;\n",
              "      border: none;\n",
              "      border-radius: 50%;\n",
              "      cursor: pointer;\n",
              "      display: none;\n",
              "      fill: #1967D2;\n",
              "      height: 32px;\n",
              "      padding: 0 0 0 0;\n",
              "      width: 32px;\n",
              "    }\n",
              "\n",
              "    .colab-df-convert:hover {\n",
              "      background-color: #E2EBFA;\n",
              "      box-shadow: 0px 1px 2px rgba(60, 64, 67, 0.3), 0px 1px 3px 1px rgba(60, 64, 67, 0.15);\n",
              "      fill: #174EA6;\n",
              "    }\n",
              "\n",
              "    .colab-df-buttons div {\n",
              "      margin-bottom: 4px;\n",
              "    }\n",
              "\n",
              "    [theme=dark] .colab-df-convert {\n",
              "      background-color: #3B4455;\n",
              "      fill: #D2E3FC;\n",
              "    }\n",
              "\n",
              "    [theme=dark] .colab-df-convert:hover {\n",
              "      background-color: #434B5C;\n",
              "      box-shadow: 0px 1px 3px 1px rgba(0, 0, 0, 0.15);\n",
              "      filter: drop-shadow(0px 1px 2px rgba(0, 0, 0, 0.3));\n",
              "      fill: #FFFFFF;\n",
              "    }\n",
              "  </style>\n",
              "\n",
              "    <script>\n",
              "      const buttonEl =\n",
              "        document.querySelector('#df-89436e23-4245-4db2-ab91-64a02d2594b8 button.colab-df-convert');\n",
              "      buttonEl.style.display =\n",
              "        google.colab.kernel.accessAllowed ? 'block' : 'none';\n",
              "\n",
              "      async function convertToInteractive(key) {\n",
              "        const element = document.querySelector('#df-89436e23-4245-4db2-ab91-64a02d2594b8');\n",
              "        const dataTable =\n",
              "          await google.colab.kernel.invokeFunction('convertToInteractive',\n",
              "                                                    [key], {});\n",
              "        if (!dataTable) return;\n",
              "\n",
              "        const docLinkHtml = 'Like what you see? Visit the ' +\n",
              "          '<a target=\"_blank\" href=https://colab.research.google.com/notebooks/data_table.ipynb>data table notebook</a>'\n",
              "          + ' to learn more about interactive tables.';\n",
              "        element.innerHTML = '';\n",
              "        dataTable['output_type'] = 'display_data';\n",
              "        await google.colab.output.renderOutput(dataTable, element);\n",
              "        const docLink = document.createElement('div');\n",
              "        docLink.innerHTML = docLinkHtml;\n",
              "        element.appendChild(docLink);\n",
              "      }\n",
              "    </script>\n",
              "  </div>\n",
              "\n",
              "\n",
              "<div id=\"df-f6a9248e-a642-443c-b923-18598b70b21d\">\n",
              "  <button class=\"colab-df-quickchart\" onclick=\"quickchart('df-f6a9248e-a642-443c-b923-18598b70b21d')\"\n",
              "            title=\"Suggest charts\"\n",
              "            style=\"display:none;\">\n",
              "\n",
              "<svg xmlns=\"http://www.w3.org/2000/svg\" height=\"24px\"viewBox=\"0 0 24 24\"\n",
              "     width=\"24px\">\n",
              "    <g>\n",
              "        <path d=\"M19 3H5c-1.1 0-2 .9-2 2v14c0 1.1.9 2 2 2h14c1.1 0 2-.9 2-2V5c0-1.1-.9-2-2-2zM9 17H7v-7h2v7zm4 0h-2V7h2v10zm4 0h-2v-4h2v4z\"/>\n",
              "    </g>\n",
              "</svg>\n",
              "  </button>\n",
              "\n",
              "<style>\n",
              "  .colab-df-quickchart {\n",
              "      --bg-color: #E8F0FE;\n",
              "      --fill-color: #1967D2;\n",
              "      --hover-bg-color: #E2EBFA;\n",
              "      --hover-fill-color: #174EA6;\n",
              "      --disabled-fill-color: #AAA;\n",
              "      --disabled-bg-color: #DDD;\n",
              "  }\n",
              "\n",
              "  [theme=dark] .colab-df-quickchart {\n",
              "      --bg-color: #3B4455;\n",
              "      --fill-color: #D2E3FC;\n",
              "      --hover-bg-color: #434B5C;\n",
              "      --hover-fill-color: #FFFFFF;\n",
              "      --disabled-bg-color: #3B4455;\n",
              "      --disabled-fill-color: #666;\n",
              "  }\n",
              "\n",
              "  .colab-df-quickchart {\n",
              "    background-color: var(--bg-color);\n",
              "    border: none;\n",
              "    border-radius: 50%;\n",
              "    cursor: pointer;\n",
              "    display: none;\n",
              "    fill: var(--fill-color);\n",
              "    height: 32px;\n",
              "    padding: 0;\n",
              "    width: 32px;\n",
              "  }\n",
              "\n",
              "  .colab-df-quickchart:hover {\n",
              "    background-color: var(--hover-bg-color);\n",
              "    box-shadow: 0 1px 2px rgba(60, 64, 67, 0.3), 0 1px 3px 1px rgba(60, 64, 67, 0.15);\n",
              "    fill: var(--button-hover-fill-color);\n",
              "  }\n",
              "\n",
              "  .colab-df-quickchart-complete:disabled,\n",
              "  .colab-df-quickchart-complete:disabled:hover {\n",
              "    background-color: var(--disabled-bg-color);\n",
              "    fill: var(--disabled-fill-color);\n",
              "    box-shadow: none;\n",
              "  }\n",
              "\n",
              "  .colab-df-spinner {\n",
              "    border: 2px solid var(--fill-color);\n",
              "    border-color: transparent;\n",
              "    border-bottom-color: var(--fill-color);\n",
              "    animation:\n",
              "      spin 1s steps(1) infinite;\n",
              "  }\n",
              "\n",
              "  @keyframes spin {\n",
              "    0% {\n",
              "      border-color: transparent;\n",
              "      border-bottom-color: var(--fill-color);\n",
              "      border-left-color: var(--fill-color);\n",
              "    }\n",
              "    20% {\n",
              "      border-color: transparent;\n",
              "      border-left-color: var(--fill-color);\n",
              "      border-top-color: var(--fill-color);\n",
              "    }\n",
              "    30% {\n",
              "      border-color: transparent;\n",
              "      border-left-color: var(--fill-color);\n",
              "      border-top-color: var(--fill-color);\n",
              "      border-right-color: var(--fill-color);\n",
              "    }\n",
              "    40% {\n",
              "      border-color: transparent;\n",
              "      border-right-color: var(--fill-color);\n",
              "      border-top-color: var(--fill-color);\n",
              "    }\n",
              "    60% {\n",
              "      border-color: transparent;\n",
              "      border-right-color: var(--fill-color);\n",
              "    }\n",
              "    80% {\n",
              "      border-color: transparent;\n",
              "      border-right-color: var(--fill-color);\n",
              "      border-bottom-color: var(--fill-color);\n",
              "    }\n",
              "    90% {\n",
              "      border-color: transparent;\n",
              "      border-bottom-color: var(--fill-color);\n",
              "    }\n",
              "  }\n",
              "</style>\n",
              "\n",
              "  <script>\n",
              "    async function quickchart(key) {\n",
              "      const quickchartButtonEl =\n",
              "        document.querySelector('#' + key + ' button');\n",
              "      quickchartButtonEl.disabled = true;  // To prevent multiple clicks.\n",
              "      quickchartButtonEl.classList.add('colab-df-spinner');\n",
              "      try {\n",
              "        const charts = await google.colab.kernel.invokeFunction(\n",
              "            'suggestCharts', [key], {});\n",
              "      } catch (error) {\n",
              "        console.error('Error during call to suggestCharts:', error);\n",
              "      }\n",
              "      quickchartButtonEl.classList.remove('colab-df-spinner');\n",
              "      quickchartButtonEl.classList.add('colab-df-quickchart-complete');\n",
              "    }\n",
              "    (() => {\n",
              "      let quickchartButtonEl =\n",
              "        document.querySelector('#df-f6a9248e-a642-443c-b923-18598b70b21d button');\n",
              "      quickchartButtonEl.style.display =\n",
              "        google.colab.kernel.accessAllowed ? 'block' : 'none';\n",
              "    })();\n",
              "  </script>\n",
              "</div>\n",
              "\n",
              "    </div>\n",
              "  </div>\n"
            ],
            "application/vnd.google.colaboratory.intrinsic+json": {
              "type": "dataframe",
              "summary": "{\n  \"name\": \"corr_values\",\n  \"rows\": 4,\n  \"fields\": [\n    {\n      \"column\": \"feature1\",\n      \"properties\": {\n        \"dtype\": \"string\",\n        \"num_unique_values\": 4,\n        \"samples\": [\n          \"total_eve_minutes\",\n          \"total_intl_minutes\",\n          \"total_day_minutes\"\n        ],\n        \"semantic_type\": \"\",\n        \"description\": \"\"\n      }\n    },\n    {\n      \"column\": \"feature2\",\n      \"properties\": {\n        \"dtype\": \"string\",\n        \"num_unique_values\": 4,\n        \"samples\": [\n          \"total_eve_charge\",\n          \"total_intl_charge\",\n          \"total_day_charge\"\n        ],\n        \"semantic_type\": \"\",\n        \"description\": \"\"\n      }\n    },\n    {\n      \"column\": \"correlation\",\n      \"properties\": {\n        \"dtype\": \"number\",\n        \"std\": 3.5080472883820416e-06,\n        \"min\": 0.9999926570208366,\n        \"max\": 0.9999999509831975,\n        \"num_unique_values\": 4,\n        \"samples\": [\n          0.9999997748632368,\n          0.9999926570208366,\n          0.9999999509831975\n        ],\n        \"semantic_type\": \"\",\n        \"description\": \"\"\n      }\n    },\n    {\n      \"column\": \"abs_correlation\",\n      \"properties\": {\n        \"dtype\": \"number\",\n        \"std\": 3.5080472883820416e-06,\n        \"min\": 0.9999926570208366,\n        \"max\": 0.9999999509831975,\n        \"num_unique_values\": 4,\n        \"samples\": [\n          0.9999997748632368,\n          0.9999926570208366,\n          0.9999999509831975\n        ],\n        \"semantic_type\": \"\",\n        \"description\": \"\"\n      }\n    }\n  ]\n}"
            }
          },
          "metadata": {},
          "execution_count": 116
        }
      ]
    },
    {
      "cell_type": "markdown",
      "metadata": {
        "id": "Bo8HLmgSMhds"
      },
      "source": [
        "## Question 10\n",
        "\n",
        "Compare the magnitudes of the coefficients for each of the models. If one-vs-rest fitting was used, each set of coefficients can be plotted separately."
      ]
    },
    {
      "cell_type": "code",
      "execution_count": 119,
      "metadata": {
        "ExecuteTime": {
          "end_time": "2021-09-17T03:12:51.236633Z",
          "start_time": "2021-09-17T03:12:51.222595Z"
        },
        "colab": {
          "base_uri": "https://localhost:8080/",
          "height": 959
        },
        "id": "5m3R4MJaMhds",
        "outputId": "7a7215be-433f-41c5-da91-151f5bb82d26"
      },
      "outputs": [
        {
          "output_type": "stream",
          "name": "stderr",
          "text": [
            "/usr/local/lib/python3.10/dist-packages/sklearn/linear_model/_logistic.py:458: ConvergenceWarning: lbfgs failed to converge (status=1):\n",
            "STOP: TOTAL NO. of ITERATIONS REACHED LIMIT.\n",
            "\n",
            "Increase the number of iterations (max_iter) or scale the data as shown in:\n",
            "    https://scikit-learn.org/stable/modules/preprocessing.html\n",
            "Please also refer to the documentation for alternative solver options:\n",
            "    https://scikit-learn.org/stable/modules/linear_model.html#logistic-regression\n",
            "  n_iter_i = _check_optimize_result(\n"
          ]
        },
        {
          "output_type": "error",
          "ename": "ValueError",
          "evalue": "shape mismatch: objects cannot be broadcast to a single shape.  Mismatch is between arg 0 with shape (6,) and arg 1 with shape (6, 561).",
          "traceback": [
            "\u001b[0;31m---------------------------------------------------------------------------\u001b[0m",
            "\u001b[0;31mValueError\u001b[0m                                Traceback (most recent call last)",
            "\u001b[0;32m<ipython-input-119-52951970f91e>\u001b[0m in \u001b[0;36m<cell line: 20>\u001b[0;34m()\u001b[0m\n\u001b[1;32m     21\u001b[0m     \u001b[0;32mif\u001b[0m \u001b[0mhasattr\u001b[0m\u001b[0;34m(\u001b[0m\u001b[0mmodel\u001b[0m\u001b[0;34m,\u001b[0m \u001b[0;34m'coef_'\u001b[0m\u001b[0;34m)\u001b[0m\u001b[0;34m:\u001b[0m  \u001b[0;31m# Check if the model has coefficients\u001b[0m\u001b[0;34m\u001b[0m\u001b[0;34m\u001b[0m\u001b[0m\n\u001b[1;32m     22\u001b[0m         \u001b[0mcoef_abs\u001b[0m \u001b[0;34m=\u001b[0m \u001b[0mnp\u001b[0m\u001b[0;34m.\u001b[0m\u001b[0mabs\u001b[0m\u001b[0;34m(\u001b[0m\u001b[0mmodel\u001b[0m\u001b[0;34m.\u001b[0m\u001b[0mcoef_\u001b[0m\u001b[0;34m)\u001b[0m\u001b[0;34m\u001b[0m\u001b[0;34m\u001b[0m\u001b[0m\n\u001b[0;32m---> 23\u001b[0;31m         \u001b[0maxs\u001b[0m\u001b[0;34m[\u001b[0m\u001b[0midx\u001b[0m\u001b[0;34m]\u001b[0m\u001b[0;34m.\u001b[0m\u001b[0mbar\u001b[0m\u001b[0;34m(\u001b[0m\u001b[0mrange\u001b[0m\u001b[0;34m(\u001b[0m\u001b[0mlen\u001b[0m\u001b[0;34m(\u001b[0m\u001b[0mcoef_abs\u001b[0m\u001b[0;34m)\u001b[0m\u001b[0;34m)\u001b[0m\u001b[0;34m,\u001b[0m \u001b[0mcoef_abs\u001b[0m\u001b[0;34m)\u001b[0m\u001b[0;34m\u001b[0m\u001b[0;34m\u001b[0m\u001b[0m\n\u001b[0m\u001b[1;32m     24\u001b[0m         \u001b[0maxs\u001b[0m\u001b[0;34m[\u001b[0m\u001b[0midx\u001b[0m\u001b[0;34m]\u001b[0m\u001b[0;34m.\u001b[0m\u001b[0mset_xlabel\u001b[0m\u001b[0;34m(\u001b[0m\u001b[0;34m'Feature Index'\u001b[0m\u001b[0;34m)\u001b[0m\u001b[0;34m\u001b[0m\u001b[0;34m\u001b[0m\u001b[0m\n\u001b[1;32m     25\u001b[0m         \u001b[0maxs\u001b[0m\u001b[0;34m[\u001b[0m\u001b[0midx\u001b[0m\u001b[0;34m]\u001b[0m\u001b[0;34m.\u001b[0m\u001b[0mset_ylabel\u001b[0m\u001b[0;34m(\u001b[0m\u001b[0;34m'Absolute Coefficient Value'\u001b[0m\u001b[0;34m)\u001b[0m\u001b[0;34m\u001b[0m\u001b[0;34m\u001b[0m\u001b[0m\n",
            "\u001b[0;32m/usr/local/lib/python3.10/dist-packages/matplotlib/__init__.py\u001b[0m in \u001b[0;36minner\u001b[0;34m(ax, data, *args, **kwargs)\u001b[0m\n\u001b[1;32m   1440\u001b[0m     \u001b[0;32mdef\u001b[0m \u001b[0minner\u001b[0m\u001b[0;34m(\u001b[0m\u001b[0max\u001b[0m\u001b[0;34m,\u001b[0m \u001b[0;34m*\u001b[0m\u001b[0margs\u001b[0m\u001b[0;34m,\u001b[0m \u001b[0mdata\u001b[0m\u001b[0;34m=\u001b[0m\u001b[0;32mNone\u001b[0m\u001b[0;34m,\u001b[0m \u001b[0;34m**\u001b[0m\u001b[0mkwargs\u001b[0m\u001b[0;34m)\u001b[0m\u001b[0;34m:\u001b[0m\u001b[0;34m\u001b[0m\u001b[0;34m\u001b[0m\u001b[0m\n\u001b[1;32m   1441\u001b[0m         \u001b[0;32mif\u001b[0m \u001b[0mdata\u001b[0m \u001b[0;32mis\u001b[0m \u001b[0;32mNone\u001b[0m\u001b[0;34m:\u001b[0m\u001b[0;34m\u001b[0m\u001b[0;34m\u001b[0m\u001b[0m\n\u001b[0;32m-> 1442\u001b[0;31m             \u001b[0;32mreturn\u001b[0m \u001b[0mfunc\u001b[0m\u001b[0;34m(\u001b[0m\u001b[0max\u001b[0m\u001b[0;34m,\u001b[0m \u001b[0;34m*\u001b[0m\u001b[0mmap\u001b[0m\u001b[0;34m(\u001b[0m\u001b[0msanitize_sequence\u001b[0m\u001b[0;34m,\u001b[0m \u001b[0margs\u001b[0m\u001b[0;34m)\u001b[0m\u001b[0;34m,\u001b[0m \u001b[0;34m**\u001b[0m\u001b[0mkwargs\u001b[0m\u001b[0;34m)\u001b[0m\u001b[0;34m\u001b[0m\u001b[0;34m\u001b[0m\u001b[0m\n\u001b[0m\u001b[1;32m   1443\u001b[0m \u001b[0;34m\u001b[0m\u001b[0m\n\u001b[1;32m   1444\u001b[0m         \u001b[0mbound\u001b[0m \u001b[0;34m=\u001b[0m \u001b[0mnew_sig\u001b[0m\u001b[0;34m.\u001b[0m\u001b[0mbind\u001b[0m\u001b[0;34m(\u001b[0m\u001b[0max\u001b[0m\u001b[0;34m,\u001b[0m \u001b[0;34m*\u001b[0m\u001b[0margs\u001b[0m\u001b[0;34m,\u001b[0m \u001b[0;34m**\u001b[0m\u001b[0mkwargs\u001b[0m\u001b[0;34m)\u001b[0m\u001b[0;34m\u001b[0m\u001b[0;34m\u001b[0m\u001b[0m\n",
            "\u001b[0;32m/usr/local/lib/python3.10/dist-packages/matplotlib/axes/_axes.py\u001b[0m in \u001b[0;36mbar\u001b[0;34m(self, x, height, width, bottom, align, **kwargs)\u001b[0m\n\u001b[1;32m   2415\u001b[0m                 \u001b[0myerr\u001b[0m \u001b[0;34m=\u001b[0m \u001b[0mself\u001b[0m\u001b[0;34m.\u001b[0m\u001b[0m_convert_dx\u001b[0m\u001b[0;34m(\u001b[0m\u001b[0myerr\u001b[0m\u001b[0;34m,\u001b[0m \u001b[0my0\u001b[0m\u001b[0;34m,\u001b[0m \u001b[0my\u001b[0m\u001b[0;34m,\u001b[0m \u001b[0mself\u001b[0m\u001b[0;34m.\u001b[0m\u001b[0mconvert_yunits\u001b[0m\u001b[0;34m)\u001b[0m\u001b[0;34m\u001b[0m\u001b[0;34m\u001b[0m\u001b[0m\n\u001b[1;32m   2416\u001b[0m \u001b[0;34m\u001b[0m\u001b[0m\n\u001b[0;32m-> 2417\u001b[0;31m         x, height, width, y, linewidth, hatch = np.broadcast_arrays(\n\u001b[0m\u001b[1;32m   2418\u001b[0m             \u001b[0;31m# Make args iterable too.\u001b[0m\u001b[0;34m\u001b[0m\u001b[0;34m\u001b[0m\u001b[0m\n\u001b[1;32m   2419\u001b[0m             np.atleast_1d(x), height, width, y, linewidth, hatch)\n",
            "\u001b[0;32m/usr/local/lib/python3.10/dist-packages/numpy/lib/stride_tricks.py\u001b[0m in \u001b[0;36mbroadcast_arrays\u001b[0;34m(subok, *args)\u001b[0m\n\u001b[1;32m    538\u001b[0m     \u001b[0margs\u001b[0m \u001b[0;34m=\u001b[0m \u001b[0;34m[\u001b[0m\u001b[0mnp\u001b[0m\u001b[0;34m.\u001b[0m\u001b[0marray\u001b[0m\u001b[0;34m(\u001b[0m\u001b[0m_m\u001b[0m\u001b[0;34m,\u001b[0m \u001b[0mcopy\u001b[0m\u001b[0;34m=\u001b[0m\u001b[0;32mFalse\u001b[0m\u001b[0;34m,\u001b[0m \u001b[0msubok\u001b[0m\u001b[0;34m=\u001b[0m\u001b[0msubok\u001b[0m\u001b[0;34m)\u001b[0m \u001b[0;32mfor\u001b[0m \u001b[0m_m\u001b[0m \u001b[0;32min\u001b[0m \u001b[0margs\u001b[0m\u001b[0;34m]\u001b[0m\u001b[0;34m\u001b[0m\u001b[0;34m\u001b[0m\u001b[0m\n\u001b[1;32m    539\u001b[0m \u001b[0;34m\u001b[0m\u001b[0m\n\u001b[0;32m--> 540\u001b[0;31m     \u001b[0mshape\u001b[0m \u001b[0;34m=\u001b[0m \u001b[0m_broadcast_shape\u001b[0m\u001b[0;34m(\u001b[0m\u001b[0;34m*\u001b[0m\u001b[0margs\u001b[0m\u001b[0;34m)\u001b[0m\u001b[0;34m\u001b[0m\u001b[0;34m\u001b[0m\u001b[0m\n\u001b[0m\u001b[1;32m    541\u001b[0m \u001b[0;34m\u001b[0m\u001b[0m\n\u001b[1;32m    542\u001b[0m     \u001b[0;32mif\u001b[0m \u001b[0mall\u001b[0m\u001b[0;34m(\u001b[0m\u001b[0marray\u001b[0m\u001b[0;34m.\u001b[0m\u001b[0mshape\u001b[0m \u001b[0;34m==\u001b[0m \u001b[0mshape\u001b[0m \u001b[0;32mfor\u001b[0m \u001b[0marray\u001b[0m \u001b[0;32min\u001b[0m \u001b[0margs\u001b[0m\u001b[0;34m)\u001b[0m\u001b[0;34m:\u001b[0m\u001b[0;34m\u001b[0m\u001b[0;34m\u001b[0m\u001b[0m\n",
            "\u001b[0;32m/usr/local/lib/python3.10/dist-packages/numpy/lib/stride_tricks.py\u001b[0m in \u001b[0;36m_broadcast_shape\u001b[0;34m(*args)\u001b[0m\n\u001b[1;32m    420\u001b[0m     \u001b[0;31m# use the old-iterator because np.nditer does not handle size 0 arrays\u001b[0m\u001b[0;34m\u001b[0m\u001b[0;34m\u001b[0m\u001b[0m\n\u001b[1;32m    421\u001b[0m     \u001b[0;31m# consistently\u001b[0m\u001b[0;34m\u001b[0m\u001b[0;34m\u001b[0m\u001b[0m\n\u001b[0;32m--> 422\u001b[0;31m     \u001b[0mb\u001b[0m \u001b[0;34m=\u001b[0m \u001b[0mnp\u001b[0m\u001b[0;34m.\u001b[0m\u001b[0mbroadcast\u001b[0m\u001b[0;34m(\u001b[0m\u001b[0;34m*\u001b[0m\u001b[0margs\u001b[0m\u001b[0;34m[\u001b[0m\u001b[0;34m:\u001b[0m\u001b[0;36m32\u001b[0m\u001b[0;34m]\u001b[0m\u001b[0;34m)\u001b[0m\u001b[0;34m\u001b[0m\u001b[0;34m\u001b[0m\u001b[0m\n\u001b[0m\u001b[1;32m    423\u001b[0m     \u001b[0;31m# unfortunately, it cannot handle 32 or more arguments directly\u001b[0m\u001b[0;34m\u001b[0m\u001b[0;34m\u001b[0m\u001b[0m\n\u001b[1;32m    424\u001b[0m     \u001b[0;32mfor\u001b[0m \u001b[0mpos\u001b[0m \u001b[0;32min\u001b[0m \u001b[0mrange\u001b[0m\u001b[0;34m(\u001b[0m\u001b[0;36m32\u001b[0m\u001b[0;34m,\u001b[0m \u001b[0mlen\u001b[0m\u001b[0;34m(\u001b[0m\u001b[0margs\u001b[0m\u001b[0;34m)\u001b[0m\u001b[0;34m,\u001b[0m \u001b[0;36m31\u001b[0m\u001b[0;34m)\u001b[0m\u001b[0;34m:\u001b[0m\u001b[0;34m\u001b[0m\u001b[0;34m\u001b[0m\u001b[0m\n",
            "\u001b[0;31mValueError\u001b[0m: shape mismatch: objects cannot be broadcast to a single shape.  Mismatch is between arg 0 with shape (6,) and arg 1 with shape (6, 561)."
          ]
        },
        {
          "output_type": "display_data",
          "data": {
            "text/plain": [
              "<Figure size 1000x600 with 1 Axes>"
            ],
            "image/png": "[encoded data removed]"
          },
          "metadata": {}
        }
      ],
      "source": [
        "# Combine all the coefficients into a dataframe for comparison\n",
        "import numpy as np\n",
        "import matplotlib.pyplot as plt\n",
        "from sklearn.linear_model import LogisticRegression\n",
        "\n",
        "# Assuming you have trained models and X_train, y_train data\n",
        "models = []  # List to store trained models\n",
        "# Train your models and append them to the `models` list\n",
        "\n",
        "# Example code for training a logistic regression model\n",
        "model = LogisticRegression()\n",
        "model.fit(X_train, y_train)\n",
        "models.append(model)\n",
        "\n",
        "# Plotting coefficients\n",
        "fig, axs = plt.subplots(len(models), 1, figsize=(10, 6 * len(models)))\n",
        "if len(models) == 1:\n",
        "    axs = [axs]  # Ensuring axs is a list for single plot case\n",
        "\n",
        "for idx, model in enumerate(models):\n",
        "    if hasattr(model, 'coef_'):  # Check if the model has coefficients\n",
        "        coef_abs = np.abs(model.coef_)\n",
        "        axs[idx].bar(range(len(coef_abs)), coef_abs)\n",
        "        axs[idx].set_xlabel('Feature Index')\n",
        "        axs[idx].set_ylabel('Absolute Coefficient Value')\n",
        "        axs[idx].set_title('Coefficients for Model {}'.format(idx + 1))\n",
        "    else:\n",
        "        axs[idx].set_title('Model {} does not have coefficients'.format(idx + 1))\n",
        "\n",
        "plt.tight_layout()\n",
        "plt.show()\n"
      ]
    },
    {
      "cell_type": "markdown",
      "metadata": {
        "id": "BApzPKWiMhds"
      },
      "source": [
        "Prepare six separate plots for each of the multi-class coefficients."
      ]
    },
    {
      "cell_type": "code",
      "execution_count": null,
      "metadata": {
        "ExecuteTime": {
          "end_time": "2021-09-17T03:12:51.252591Z",
          "start_time": "2021-09-17T03:12:51.238596Z"
        },
        "id": "vuJZEKYJMhds"
      },
      "outputs": [],
      "source": [
        "# try the plots"
      ]
    },
    {
      "cell_type": "markdown",
      "metadata": {
        "id": "clEA-dJjMhdt"
      },
      "source": [
        "## Question 11\n",
        "\n",
        "* Predict and store the class for each model.\n",
        "* Also store the probability for the predicted class for each model."
      ]
    },
    {
      "cell_type": "code",
      "execution_count": null,
      "metadata": {
        "ExecuteTime": {
          "end_time": "2021-09-17T03:12:51.268592Z",
          "start_time": "2021-09-17T03:12:51.254594Z"
        },
        "id": "bOWX9Yi4Mhdt"
      },
      "outputs": [],
      "source": [
        "# Predict the class and the probability for each\n"
      ]
    },
    {
      "cell_type": "markdown",
      "metadata": {
        "id": "7z0nQcnAMhdt"
      },
      "source": [
        "## Question 12\n",
        "\n",
        "For each model, calculate the following error metrics:\n",
        "\n",
        "* accuracy\n",
        "* precision\n",
        "* recall\n",
        "* fscore\n",
        "* confusion matrix\n",
        "\n",
        "Decide how to combine the multi-class metrics into a single value for each model."
      ]
    },
    {
      "cell_type": "code",
      "execution_count": null,
      "metadata": {
        "ExecuteTime": {
          "end_time": "2021-09-17T03:12:51.284594Z",
          "start_time": "2021-09-17T03:12:51.270594Z"
        },
        "id": "-ljuqYSIMhdt"
      },
      "outputs": [],
      "source": [
        "# Calculate the error metrics as listed above"
      ]
    },
    {
      "cell_type": "code",
      "execution_count": null,
      "metadata": {
        "ExecuteTime": {
          "end_time": "2021-09-17T03:12:51.300595Z",
          "start_time": "2021-09-17T03:12:51.286595Z"
        },
        "id": "bLm-cafIMhdt"
      },
      "outputs": [],
      "source": [
        "#Run the metrics"
      ]
    },
    {
      "cell_type": "markdown",
      "metadata": {
        "id": "XgvRlVcYMhdu"
      },
      "source": [
        "## Question 13\n",
        "\n",
        "Display or plot the confusion matrix for each model."
      ]
    },
    {
      "cell_type": "code",
      "execution_count": null,
      "metadata": {
        "ExecuteTime": {
          "end_time": "2021-09-17T03:12:51.315594Z",
          "start_time": "2021-09-17T03:12:51.302595Z"
        },
        "id": "vXTS-C9xMhdu"
      },
      "outputs": [],
      "source": [
        "#plot the confusion matrix"
      ]
    },
    {
      "cell_type": "code",
      "execution_count": null,
      "metadata": {
        "ExecuteTime": {
          "end_time": "2021-09-17T03:12:51.331594Z",
          "start_time": "2021-09-17T03:12:51.320595Z"
        },
        "id": "ULB9zxtoMhdu"
      },
      "outputs": [],
      "source": [
        "# Perform a comparison of the outputs between Question 7 and 12 and give your observation"
      ]
    },
    {
      "cell_type": "code",
      "execution_count": null,
      "metadata": {
        "ExecuteTime": {
          "end_time": "2021-09-17T03:12:51.346595Z",
          "start_time": "2021-09-17T03:12:51.333594Z"
        },
        "id": "l7VwLLmfMhdu"
      },
      "outputs": [],
      "source": [
        "# Perform a comparison of the outputs between Question 8 and 13 and give your observation"
      ]
    },
    {
      "cell_type": "code",
      "execution_count": null,
      "metadata": {
        "id": "ybKtaqdFMhdu"
      },
      "outputs": [],
      "source": []
    }
  ],
  "metadata": {
    "kernelspec": {
      "display_name": "Python 3 (Intel® oneAPI 2022.3)",
      "language": "python",
      "name": "c009-intel_distribution_of_python_3_oneapi-beta05-python"
    },
    "language_info": {
      "codemirror_mode": {
        "name": "ipython",
        "version": 3
      },
      "file_extension": ".py",
      "mimetype": "text/x-python",
      "name": "python",
      "nbconvert_exporter": "python",
      "pygments_lexer": "ipython3",
      "version": "3.9.12"
    },
    "colab": {
      "provenance": []
    }
  },
  "nbformat": 4,
  "nbformat_minor": 0
}
